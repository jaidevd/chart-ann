{
 "cells": [
  {
   "cell_type": "code",
   "execution_count": 1,
   "metadata": {},
   "outputs": [],
   "source": [
    "from base64 import decodebytes\n",
    "from skimage.io import imread\n",
    "from io import BytesIO\n",
    "from skimage.color import rgba2rgb\n",
    "from skimage.transform import resize\n",
    "from tensorflow.keras.utils import to_categorical\n",
    "from tensorflow.keras.applications import Xception\n",
    "from tensorflow.keras import layers\n",
    "from sklearn.model_selection import train_test_split\n",
    "from sklearn.preprocessing import LabelEncoder\n",
    "from tensorflow.keras.optimizers import *\n",
    "from tensorflow.keras import Model\n",
    "from tensorflow.keras.losses import CategoricalCrossentropy\n",
    "import numpy as np\n",
    "from gramex.data import filter as gfilter\n",
    "from h5py import File\n",
    "from tqdm import tqdm\n",
    "from matplotlib import pyplot as plt\n",
    "from chart_annotation import plot_history\n",
    "from tensorflow.keras.callbacks import EarlyStopping\n",
    "from tensorflow.keras.preprocessing.image import ImageDataGenerator\n",
    "%matplotlib inline"
   ]
  },
  {
   "cell_type": "code",
   "execution_count": 2,
   "metadata": {},
   "outputs": [],
   "source": [
    "df = gfilter('sqlite:///data/charts_coarse.db', table='charts')"
   ]
  },
  {
   "cell_type": "code",
   "execution_count": 3,
   "metadata": {},
   "outputs": [
    {
     "data": {
      "text/html": [
       "<div>\n",
       "<style scoped>\n",
       "    .dataframe tbody tr th:only-of-type {\n",
       "        vertical-align: middle;\n",
       "    }\n",
       "\n",
       "    .dataframe tbody tr th {\n",
       "        vertical-align: top;\n",
       "    }\n",
       "\n",
       "    .dataframe thead th {\n",
       "        text-align: right;\n",
       "    }\n",
       "</style>\n",
       "<table border=\"1\" class=\"dataframe\">\n",
       "  <thead>\n",
       "    <tr style=\"text-align: right;\">\n",
       "      <th></th>\n",
       "      <th>label</th>\n",
       "      <th>validated_label</th>\n",
       "      <th>image</th>\n",
       "      <th>chart_id</th>\n",
       "      <th>is_validated</th>\n",
       "      <th>parent_label</th>\n",
       "    </tr>\n",
       "  </thead>\n",
       "  <tbody>\n",
       "    <tr>\n",
       "      <th>1</th>\n",
       "      <td>populationpyramid</td>\n",
       "      <td>populationpyramid</td>\n",
       "      <td>data:image/png;base64,iVBORw0KGgoAAAANSUhEUgAA...</td>\n",
       "      <td>9</td>\n",
       "      <td>1</td>\n",
       "      <td>barchart</td>\n",
       "    </tr>\n",
       "    <tr>\n",
       "      <th>6</th>\n",
       "      <td>Map</td>\n",
       "      <td>map</td>\n",
       "      <td>data:image/png;base64,iVBORw0KGgoAAAANSUhEUgAA...</td>\n",
       "      <td>14</td>\n",
       "      <td>1</td>\n",
       "      <td>map</td>\n",
       "    </tr>\n",
       "    <tr>\n",
       "      <th>7</th>\n",
       "      <td>dotmatrix</td>\n",
       "      <td>dotmatrix</td>\n",
       "      <td>data:image/png;base64,iVBORw0KGgoAAAANSUhEUgAA...</td>\n",
       "      <td>15</td>\n",
       "      <td>1</td>\n",
       "      <td>dotmatrix</td>\n",
       "    </tr>\n",
       "    <tr>\n",
       "      <th>8</th>\n",
       "      <td>bubble chart</td>\n",
       "      <td>scatterplot</td>\n",
       "      <td>data:image/png;base64,iVBORw0KGgoAAAANSUhEUgAA...</td>\n",
       "      <td>16</td>\n",
       "      <td>1</td>\n",
       "      <td>bubblechartlegend</td>\n",
       "    </tr>\n",
       "    <tr>\n",
       "      <th>10</th>\n",
       "      <td>spiral bubble</td>\n",
       "      <td>spiral-bubble</td>\n",
       "      <td>data:image/png;base64,iVBORw0KGgoAAAANSUhEUgAA...</td>\n",
       "      <td>18</td>\n",
       "      <td>1</td>\n",
       "      <td>bubblechartlegend</td>\n",
       "    </tr>\n",
       "  </tbody>\n",
       "</table>\n",
       "</div>"
      ],
      "text/plain": [
       "                label    validated_label  \\\n",
       "1   populationpyramid  populationpyramid   \n",
       "6                 Map                map   \n",
       "7           dotmatrix          dotmatrix   \n",
       "8        bubble chart        scatterplot   \n",
       "10      spiral bubble      spiral-bubble   \n",
       "\n",
       "                                                image  chart_id  is_validated  \\\n",
       "1   data:image/png;base64,iVBORw0KGgoAAAANSUhEUgAA...         9             1   \n",
       "6   data:image/png;base64,iVBORw0KGgoAAAANSUhEUgAA...        14             1   \n",
       "7   data:image/png;base64,iVBORw0KGgoAAAANSUhEUgAA...        15             1   \n",
       "8   data:image/png;base64,iVBORw0KGgoAAAANSUhEUgAA...        16             1   \n",
       "10  data:image/png;base64,iVBORw0KGgoAAAANSUhEUgAA...        18             1   \n",
       "\n",
       "         parent_label  \n",
       "1            barchart  \n",
       "6                 map  \n",
       "7           dotmatrix  \n",
       "8   bubblechartlegend  \n",
       "10  bubblechartlegend  "
      ]
     },
     "execution_count": 3,
     "metadata": {},
     "output_type": "execute_result"
    }
   ],
   "source": [
    "to_keep = df['parent_label'].value_counts()[df['parent_label'].value_counts() >= 25].index\n",
    "df = df[df['parent_label'].isin(to_keep)]\n",
    "df.head()"
   ]
  },
  {
   "cell_type": "code",
   "execution_count": 4,
   "metadata": {},
   "outputs": [
    {
     "data": {
      "text/plain": [
       "barchart             0.330357\n",
       "map                  0.193452\n",
       "bubblechartlegend    0.163690\n",
       "linechart            0.136905\n",
       "donut                0.101190\n",
       "dotmatrix            0.074405\n",
       "Name: parent_label, dtype: float64"
      ]
     },
     "execution_count": 4,
     "metadata": {},
     "output_type": "execute_result"
    }
   ],
   "source": [
    "vc = df['parent_label'].value_counts() / df.shape[0]\n",
    "vc"
   ]
  },
  {
   "cell_type": "code",
   "execution_count": 5,
   "metadata": {},
   "outputs": [],
   "source": [
    "X = np.zeros((df.shape[0], 299, 299, 3))"
   ]
  },
  {
   "cell_type": "code",
   "execution_count": 6,
   "metadata": {},
   "outputs": [
    {
     "name": "stderr",
     "output_type": "stream",
     "text": [
      "100%|██████████| 336/336 [00:13<00:00, 24.70it/s]\n"
     ]
    }
   ],
   "source": [
    "for i, (_, row) in tqdm(enumerate(df.iterrows()), total=df.shape[0]):\n",
    "    imgdata = row['image'].split(',')[-1]\n",
    "    bytedata = decodebytes(imgdata.encode())\n",
    "    image = imread(BytesIO(bytedata))\n",
    "    image = rgba2rgb(image)\n",
    "    image = resize(image, (299, 299), preserve_range=True)\n",
    "    X[i] = image"
   ]
  },
  {
   "cell_type": "code",
   "execution_count": 7,
   "metadata": {},
   "outputs": [],
   "source": [
    "lenc = LabelEncoder()\n",
    "y = lenc.fit_transform(df['parent_label'])"
   ]
  },
  {
   "cell_type": "code",
   "execution_count": 8,
   "metadata": {},
   "outputs": [],
   "source": [
    "model = Xception(\n",
    "    include_top=True,\n",
    "    weights=None,\n",
    "    input_tensor=None,\n",
    "    input_shape=None,\n",
    "    pooling=None,\n",
    "    classes=vc.shape[0],\n",
    "    classifier_activation=\"softmax\",\n",
    ")"
   ]
  },
  {
   "cell_type": "code",
   "execution_count": 24,
   "metadata": {},
   "outputs": [],
   "source": [
    "# model.trainable = False\n",
    "# ip_layer = layers.Input(shape=(299, 299, 3))\n",
    "# x = model(ip_layer, training=False)\n",
    "# x = layers.Dense(df['parent_label'].nunique())(x)\n",
    "# outer = Model(ip_layer, x)\n",
    "\n",
    "# outer.compile(optimizer=Adam(lr=0.01),\n",
    "#               loss=CategoricalCrossentropy(from_logits=True), metrics=['categorical_accuracy'])\n",
    "model.compile(optimizer=Adam(), loss=CategoricalCrossentropy(), metrics=['categorical_accuracy'])"
   ]
  },
  {
   "cell_type": "code",
   "execution_count": 10,
   "metadata": {},
   "outputs": [],
   "source": [
    "y = to_categorical(y)\n",
    "xtrain, xtest, ytrain, ytest = train_test_split(X, y, test_size=0.25, stratify=np.argmax(y, axis=1))"
   ]
  },
  {
   "cell_type": "code",
   "execution_count": 11,
   "metadata": {},
   "outputs": [],
   "source": [
    "from tensorflow.keras.callbacks import TensorBoard"
   ]
  },
  {
   "cell_type": "code",
   "execution_count": 25,
   "metadata": {
    "scrolled": true
   },
   "outputs": [
    {
     "name": "stdout",
     "output_type": "stream",
     "text": [
      "Epoch 1/1000\n",
      "32/31 [==============================] - 7s 215ms/step - loss: 0.4262 - categorical_accuracy: 0.8929 - val_loss: 1.1481 - val_categorical_accuracy: 0.7619\n",
      "Epoch 2/1000\n",
      "32/31 [==============================] - 6s 192ms/step - loss: 0.1892 - categorical_accuracy: 0.9325 - val_loss: 1.6017 - val_categorical_accuracy: 0.6429\n",
      "Epoch 3/1000\n",
      "32/31 [==============================] - 6s 191ms/step - loss: 0.2551 - categorical_accuracy: 0.9246 - val_loss: 1.3815 - val_categorical_accuracy: 0.6786\n",
      "Epoch 4/1000\n",
      "32/31 [==============================] - 6s 193ms/step - loss: 0.3283 - categorical_accuracy: 0.8929 - val_loss: 1.1934 - val_categorical_accuracy: 0.7143\n",
      "Epoch 5/1000\n",
      "32/31 [==============================] - 6s 193ms/step - loss: 0.3238 - categorical_accuracy: 0.8770 - val_loss: 1.4941 - val_categorical_accuracy: 0.7262\n",
      "Epoch 6/1000\n",
      "32/31 [==============================] - 6s 191ms/step - loss: 0.2103 - categorical_accuracy: 0.9127 - val_loss: 2.0091 - val_categorical_accuracy: 0.5952\n",
      "Epoch 7/1000\n",
      "32/31 [==============================] - 6s 192ms/step - loss: 0.2271 - categorical_accuracy: 0.9325 - val_loss: 2.0664 - val_categorical_accuracy: 0.6548\n",
      "Epoch 8/1000\n",
      "32/31 [==============================] - 6s 193ms/step - loss: 0.3040 - categorical_accuracy: 0.8810 - val_loss: 1.8374 - val_categorical_accuracy: 0.5357\n",
      "Epoch 9/1000\n",
      "32/31 [==============================] - 6s 192ms/step - loss: 0.3390 - categorical_accuracy: 0.8810 - val_loss: 1.6036 - val_categorical_accuracy: 0.6667\n",
      "Epoch 10/1000\n",
      "32/31 [==============================] - 6s 191ms/step - loss: 0.3711 - categorical_accuracy: 0.8690 - val_loss: 3.3711 - val_categorical_accuracy: 0.5357\n",
      "Epoch 11/1000\n",
      "32/31 [==============================] - 6s 195ms/step - loss: 0.3724 - categorical_accuracy: 0.8849 - val_loss: 2.2967 - val_categorical_accuracy: 0.6429\n",
      "Epoch 12/1000\n",
      "32/31 [==============================] - 6s 192ms/step - loss: 0.3356 - categorical_accuracy: 0.9008 - val_loss: 4.8810 - val_categorical_accuracy: 0.4643\n",
      "Epoch 13/1000\n",
      "32/31 [==============================] - 6s 193ms/step - loss: 0.2451 - categorical_accuracy: 0.9127 - val_loss: 1.3927 - val_categorical_accuracy: 0.6548\n",
      "Epoch 14/1000\n",
      "32/31 [==============================] - 6s 199ms/step - loss: 0.2320 - categorical_accuracy: 0.9048 - val_loss: 3.6934 - val_categorical_accuracy: 0.3452\n",
      "Epoch 15/1000\n",
      "32/31 [==============================] - 6s 193ms/step - loss: 0.2552 - categorical_accuracy: 0.9206 - val_loss: 2.4353 - val_categorical_accuracy: 0.3810\n",
      "Epoch 16/1000\n",
      "32/31 [==============================] - 6s 192ms/step - loss: 0.3283 - categorical_accuracy: 0.8929 - val_loss: 1.5697 - val_categorical_accuracy: 0.7024\n",
      "Epoch 17/1000\n",
      "32/31 [==============================] - 6s 194ms/step - loss: 0.2016 - categorical_accuracy: 0.9365 - val_loss: 1.1925 - val_categorical_accuracy: 0.7143\n",
      "Epoch 18/1000\n",
      "32/31 [==============================] - 6s 200ms/step - loss: 0.1546 - categorical_accuracy: 0.9444 - val_loss: 1.1307 - val_categorical_accuracy: 0.7857\n",
      "Epoch 19/1000\n",
      "32/31 [==============================] - 6s 193ms/step - loss: 0.1912 - categorical_accuracy: 0.9325 - val_loss: 1.6823 - val_categorical_accuracy: 0.7381\n",
      "Epoch 20/1000\n",
      "32/31 [==============================] - 6s 193ms/step - loss: 0.2308 - categorical_accuracy: 0.9325 - val_loss: 1.2637 - val_categorical_accuracy: 0.6905\n",
      "Epoch 21/1000\n",
      "32/31 [==============================] - 6s 195ms/step - loss: 0.2253 - categorical_accuracy: 0.9206 - val_loss: 0.7455 - val_categorical_accuracy: 0.7857\n",
      "Epoch 22/1000\n",
      "32/31 [==============================] - 6s 195ms/step - loss: 0.1604 - categorical_accuracy: 0.9246 - val_loss: 1.2401 - val_categorical_accuracy: 0.6905\n",
      "Epoch 23/1000\n",
      "32/31 [==============================] - 6s 192ms/step - loss: 0.1441 - categorical_accuracy: 0.9524 - val_loss: 1.1141 - val_categorical_accuracy: 0.7262\n",
      "Epoch 24/1000\n",
      "32/31 [==============================] - 6s 194ms/step - loss: 0.2052 - categorical_accuracy: 0.9405 - val_loss: 1.3634 - val_categorical_accuracy: 0.7143\n",
      "Epoch 25/1000\n",
      "32/31 [==============================] - 6s 197ms/step - loss: 0.2626 - categorical_accuracy: 0.9048 - val_loss: 1.5397 - val_categorical_accuracy: 0.6786\n",
      "Epoch 26/1000\n",
      "32/31 [==============================] - 6s 195ms/step - loss: 0.2542 - categorical_accuracy: 0.9127 - val_loss: 1.5739 - val_categorical_accuracy: 0.7024\n",
      "Epoch 27/1000\n",
      "32/31 [==============================] - 6s 192ms/step - loss: 0.1769 - categorical_accuracy: 0.9286 - val_loss: 1.2119 - val_categorical_accuracy: 0.7738\n",
      "Epoch 28/1000\n",
      "32/31 [==============================] - 6s 193ms/step - loss: 0.2248 - categorical_accuracy: 0.9286 - val_loss: 1.5274 - val_categorical_accuracy: 0.7262\n",
      "Epoch 29/1000\n",
      "32/31 [==============================] - 6s 192ms/step - loss: 0.1843 - categorical_accuracy: 0.9286 - val_loss: 1.4267 - val_categorical_accuracy: 0.7619\n",
      "Epoch 30/1000\n",
      "32/31 [==============================] - 6s 193ms/step - loss: 0.1175 - categorical_accuracy: 0.9603 - val_loss: 2.1031 - val_categorical_accuracy: 0.6429\n",
      "Epoch 31/1000\n",
      "32/31 [==============================] - 6s 193ms/step - loss: 0.1629 - categorical_accuracy: 0.9405 - val_loss: 2.1352 - val_categorical_accuracy: 0.6667\n",
      "Epoch 32/1000\n",
      "32/31 [==============================] - 6s 193ms/step - loss: 0.1731 - categorical_accuracy: 0.9484 - val_loss: 3.5206 - val_categorical_accuracy: 0.3571\n",
      "Epoch 33/1000\n",
      "32/31 [==============================] - 6s 192ms/step - loss: 0.1552 - categorical_accuracy: 0.9603 - val_loss: 1.9586 - val_categorical_accuracy: 0.6548\n",
      "Epoch 34/1000\n",
      "32/31 [==============================] - 6s 193ms/step - loss: 0.2498 - categorical_accuracy: 0.9167 - val_loss: 1.1400 - val_categorical_accuracy: 0.7619\n",
      "Epoch 35/1000\n",
      "32/31 [==============================] - 6s 194ms/step - loss: 0.2166 - categorical_accuracy: 0.9325 - val_loss: 1.3710 - val_categorical_accuracy: 0.7857\n",
      "Epoch 36/1000\n",
      "32/31 [==============================] - 6s 193ms/step - loss: 0.1869 - categorical_accuracy: 0.9484 - val_loss: 1.5983 - val_categorical_accuracy: 0.6429\n",
      "Epoch 37/1000\n",
      "32/31 [==============================] - 6s 193ms/step - loss: 0.1406 - categorical_accuracy: 0.9563 - val_loss: 2.4802 - val_categorical_accuracy: 0.5238\n",
      "Epoch 38/1000\n",
      "32/31 [==============================] - 6s 194ms/step - loss: 0.2181 - categorical_accuracy: 0.9286 - val_loss: 1.1793 - val_categorical_accuracy: 0.6905\n",
      "Epoch 39/1000\n",
      "32/31 [==============================] - 6s 193ms/step - loss: 0.2100 - categorical_accuracy: 0.9286 - val_loss: 1.4040 - val_categorical_accuracy: 0.6786\n",
      "Epoch 40/1000\n",
      "32/31 [==============================] - 6s 192ms/step - loss: 0.1572 - categorical_accuracy: 0.9643 - val_loss: 1.0597 - val_categorical_accuracy: 0.6905\n",
      "Epoch 41/1000\n",
      "32/31 [==============================] - 6s 195ms/step - loss: 0.0974 - categorical_accuracy: 0.9683 - val_loss: 1.1585 - val_categorical_accuracy: 0.7857\n",
      "Epoch 42/1000\n",
      "32/31 [==============================] - 6s 193ms/step - loss: 0.1653 - categorical_accuracy: 0.9365 - val_loss: 1.4149 - val_categorical_accuracy: 0.6786\n",
      "Epoch 43/1000\n",
      "32/31 [==============================] - 6s 197ms/step - loss: 0.1831 - categorical_accuracy: 0.9365 - val_loss: 3.2478 - val_categorical_accuracy: 0.4286\n",
      "Epoch 44/1000\n",
      "32/31 [==============================] - 6s 193ms/step - loss: 0.1767 - categorical_accuracy: 0.9563 - val_loss: 1.5410 - val_categorical_accuracy: 0.5952\n",
      "Epoch 45/1000\n",
      "32/31 [==============================] - 6s 193ms/step - loss: 0.1585 - categorical_accuracy: 0.9444 - val_loss: 1.8197 - val_categorical_accuracy: 0.6071\n",
      "Epoch 46/1000\n",
      "32/31 [==============================] - 6s 197ms/step - loss: 0.1579 - categorical_accuracy: 0.9563 - val_loss: 1.9204 - val_categorical_accuracy: 0.5000\n",
      "Epoch 47/1000\n",
      "32/31 [==============================] - 6s 193ms/step - loss: 0.1730 - categorical_accuracy: 0.9405 - val_loss: 1.1051 - val_categorical_accuracy: 0.7857\n",
      "Epoch 48/1000\n",
      "32/31 [==============================] - 6s 195ms/step - loss: 0.1658 - categorical_accuracy: 0.9405 - val_loss: 0.8202 - val_categorical_accuracy: 0.8095\n",
      "Epoch 49/1000\n",
      "32/31 [==============================] - 6s 194ms/step - loss: 0.2002 - categorical_accuracy: 0.9286 - val_loss: 1.8054 - val_categorical_accuracy: 0.6667\n",
      "Epoch 50/1000\n",
      "32/31 [==============================] - 6s 194ms/step - loss: 0.3193 - categorical_accuracy: 0.9206 - val_loss: 1.8325 - val_categorical_accuracy: 0.7024\n",
      "Epoch 51/1000\n",
      "32/31 [==============================] - 6s 195ms/step - loss: 0.2066 - categorical_accuracy: 0.9405 - val_loss: 2.3409 - val_categorical_accuracy: 0.7024\n"
     ]
    }
   ],
   "source": [
    "datagen = ImageDataGenerator(\n",
    "    horizontal_flip=True, zoom_range=0.5)\n",
    "datagen.fit(xtrain)\n",
    "history = model.fit(\n",
    "    datagen.flow(xtrain, ytrain, batch_size=8),\n",
    "    steps_per_epoch=len(xtrain) / 8,\n",
    "    epochs=1000,\n",
    "    validation_data=(xtest, ytest),\n",
    "    callbacks=[EarlyStopping('val_loss', min_delta=0.01, patience=30, restore_best_weights=True),\n",
    "               TensorBoard('/tmp/xception-charts-logs/', write_graph=False)],\n",
    "    verbose=1\n",
    ")"
   ]
  },
  {
   "cell_type": "code",
   "execution_count": 27,
   "metadata": {},
   "outputs": [
    {
     "data": {
      "image/png": "[encoded data removed]",
      "text/plain": [
       "<Figure size 432x288 with 1 Axes>"
      ]
     },
     "metadata": {
      "needs_background": "light"
     },
     "output_type": "display_data"
    }
   ],
   "source": [
    "plot_history(history)"
   ]
  },
  {
   "cell_type": "code",
   "execution_count": 28,
   "metadata": {},
   "outputs": [],
   "source": [
    "model.save('xception-blank.h5')"
   ]
  },
  {
   "cell_type": "code",
   "execution_count": null,
   "metadata": {},
   "outputs": [],
   "source": []
  }
 ],
 "metadata": {
  "kernelspec": {
   "display_name": "Python 3",
   "language": "python",
   "name": "python3"
  },
  "language_info": {
   "codemirror_mode": {
    "name": "ipython",
    "version": 3
   },
   "file_extension": ".py",
   "mimetype": "text/x-python",
   "name": "python",
   "nbconvert_exporter": "python",
   "pygments_lexer": "ipython3",
   "version": "3.7.7"
  }
 },
 "nbformat": 4,
 "nbformat_minor": 4
}
