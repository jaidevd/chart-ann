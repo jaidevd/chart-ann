{
 "cells": [
  {
   "cell_type": "code",
   "execution_count": 1,
   "metadata": {},
   "outputs": [],
   "source": [
    "from tensorflow.keras.applications import ResNet50V2\n",
    "from tensorflow.keras.applications.resnet_v2 import preprocess_input\n",
    "from tensorflow.keras import Model\n",
    "from tensorflow.keras.optimizers import Adam\n",
    "from tensorflow.keras.losses import CategoricalCrossentropy\n",
    "from tensorflow.keras.metrics import CategoricalAccuracy\n",
    "from tensorflow.keras.preprocessing.image import ImageDataGenerator\n",
    "from tensorflow.keras import layers as L\n",
    "from tensorflow.keras.callbacks import EarlyStopping\n",
    "import numpy as np\n",
    "from sklearn.model_selection import train_test_split\n",
    "import pandas as pd\n",
    "from matplotlib import pyplot as plt"
   ]
  },
  {
   "cell_type": "code",
   "execution_count": 2,
   "metadata": {},
   "outputs": [],
   "source": [
    "base = ResNet50V2(False)"
   ]
  },
  {
   "cell_type": "code",
   "execution_count": 3,
   "metadata": {},
   "outputs": [],
   "source": [
    "base.trainable = False\n",
    "inputs = L.Input(shape=(224, 224, 3))\n",
    "x = base(inputs, training=False)\n",
    "x = L.GlobalAveragePooling2D()(x)\n",
    "outputs = L.Dense(5)(x)"
   ]
  },
  {
   "cell_type": "code",
   "execution_count": 4,
   "metadata": {},
   "outputs": [],
   "source": [
    "model = Model(inputs, outputs)"
   ]
  },
  {
   "cell_type": "code",
   "execution_count": 16,
   "metadata": {},
   "outputs": [],
   "source": [
    "model.compile(Adam(learning_rate=1e-4), loss=CategoricalCrossentropy(from_logits=True), metrics=[CategoricalAccuracy()])"
   ]
  },
  {
   "cell_type": "code",
   "execution_count": 17,
   "metadata": {},
   "outputs": [],
   "source": [
    "df = pd.read_csv('data/train.csv')\n",
    "df = df[~df['path'].str.endswith('.gif')]\n",
    "xtr, xts = train_test_split(df, stratify=df['class'], test_size=0.33)"
   ]
  },
  {
   "cell_type": "code",
   "execution_count": 18,
   "metadata": {},
   "outputs": [],
   "source": [
    "train_gen = ImageDataGenerator(\n",
    "    preprocessing_function=preprocess_input,\n",
    "    vertical_flip=True, horizontal_flip=True, zoom_range=[0.5, 1.5],\n",
    "    width_shift_range=[-100, 100], height_shift_range=[-100, 100]\n",
    ")\n",
    "test_gen = ImageDataGenerator(preprocessing_function=preprocess_input)"
   ]
  },
  {
   "cell_type": "code",
   "execution_count": 19,
   "metadata": {
    "scrolled": true,
    "tags": []
   },
   "outputs": [
    {
     "name": "stdout",
     "output_type": "stream",
     "text": [
      "Found 258 non-validated image filenames belonging to 5 classes.\n",
      "Found 128 non-validated image filenames belonging to 5 classes.\n",
      "Epoch 1/200\n",
      "2/9 [=====>........................] - ETA: 3s - loss: 0.2383 - categorical_accuracy: 0.9375 "
     ]
    },
    {
     "name": "stderr",
     "output_type": "stream",
     "text": [
      "/home/jaidevd/conda/lib/python3.7/site-packages/PIL/Image.py:974: UserWarning: Palette images with Transparency expressed in bytes should be converted to RGBA images\n",
      "  \"Palette images with Transparency expressed in bytes should be \"\n"
     ]
    },
    {
     "name": "stdout",
     "output_type": "stream",
     "text": [
      "9/9 [==============================] - 11s 1s/step - loss: 0.4726 - categorical_accuracy: 0.8217 - val_loss: 0.1517 - val_categorical_accuracy: 0.9609\n",
      "Epoch 2/200\n",
      "9/9 [==============================] - 9s 976ms/step - loss: 0.4488 - categorical_accuracy: 0.8566 - val_loss: 0.1482 - val_categorical_accuracy: 0.9609\n",
      "Epoch 3/200\n",
      "9/9 [==============================] - 9s 1s/step - loss: 0.4523 - categorical_accuracy: 0.8333 - val_loss: 0.1467 - val_categorical_accuracy: 0.9609\n",
      "Epoch 4/200\n",
      "9/9 [==============================] - 9s 1s/step - loss: 0.4324 - categorical_accuracy: 0.8605 - val_loss: 0.1459 - val_categorical_accuracy: 0.9609\n",
      "Epoch 5/200\n",
      "9/9 [==============================] - 9s 1s/step - loss: 0.4064 - categorical_accuracy: 0.8760 - val_loss: 0.1443 - val_categorical_accuracy: 0.9609\n",
      "Epoch 6/200\n",
      "9/9 [==============================] - 9s 967ms/step - loss: 0.4466 - categorical_accuracy: 0.8372 - val_loss: 0.1451 - val_categorical_accuracy: 0.9609\n",
      "Epoch 7/200\n",
      "9/9 [==============================] - 9s 1s/step - loss: 0.4140 - categorical_accuracy: 0.8333 - val_loss: 0.1461 - val_categorical_accuracy: 0.9609\n",
      "Epoch 8/200\n",
      "9/9 [==============================] - 9s 1s/step - loss: 0.4640 - categorical_accuracy: 0.8217 - val_loss: 0.1468 - val_categorical_accuracy: 0.9609\n",
      "Epoch 9/200\n",
      "9/9 [==============================] - 9s 889ms/step - loss: 0.4547 - categorical_accuracy: 0.8411 - val_loss: 0.1458 - val_categorical_accuracy: 0.9609\n",
      "Epoch 10/200\n",
      "9/9 [==============================] - 9s 935ms/step - loss: 0.4253 - categorical_accuracy: 0.8333 - val_loss: 0.1441 - val_categorical_accuracy: 0.9609\n",
      "Epoch 11/200\n",
      "9/9 [==============================] - 9s 991ms/step - loss: 0.4129 - categorical_accuracy: 0.8372 - val_loss: 0.1427 - val_categorical_accuracy: 0.9609\n",
      "Epoch 12/200\n",
      "9/9 [==============================] - 9s 1s/step - loss: 0.4819 - categorical_accuracy: 0.8256 - val_loss: 0.1428 - val_categorical_accuracy: 0.9609\n",
      "Epoch 13/200\n",
      "9/9 [==============================] - 9s 1s/step - loss: 0.5119 - categorical_accuracy: 0.8178 - val_loss: 0.1440 - val_categorical_accuracy: 0.9609\n",
      "Epoch 14/200\n",
      "9/9 [==============================] - 9s 1s/step - loss: 0.3974 - categorical_accuracy: 0.8411 - val_loss: 0.1458 - val_categorical_accuracy: 0.9609\n",
      "Epoch 15/200\n",
      "9/9 [==============================] - 9s 946ms/step - loss: 0.3641 - categorical_accuracy: 0.8527 - val_loss: 0.1474 - val_categorical_accuracy: 0.9609\n",
      "Epoch 16/200\n",
      "9/9 [==============================] - 9s 1s/step - loss: 0.5126 - categorical_accuracy: 0.8101 - val_loss: 0.1470 - val_categorical_accuracy: 0.9609\n",
      "Epoch 17/200\n",
      "9/9 [==============================] - 9s 1s/step - loss: 0.4588 - categorical_accuracy: 0.8256 - val_loss: 0.1502 - val_categorical_accuracy: 0.9609\n",
      "Epoch 18/200\n",
      "9/9 [==============================] - 9s 1000ms/step - loss: 0.4816 - categorical_accuracy: 0.8178 - val_loss: 0.1537 - val_categorical_accuracy: 0.9609\n",
      "Epoch 19/200\n",
      "9/9 [==============================] - 9s 990ms/step - loss: 0.5019 - categorical_accuracy: 0.7868 - val_loss: 0.1539 - val_categorical_accuracy: 0.9609\n",
      "Epoch 20/200\n",
      "9/9 [==============================] - 9s 1s/step - loss: 0.4092 - categorical_accuracy: 0.8605 - val_loss: 0.1513 - val_categorical_accuracy: 0.9609\n",
      "Epoch 21/200\n",
      "9/9 [==============================] - 9s 996ms/step - loss: 0.4682 - categorical_accuracy: 0.8256 - val_loss: 0.1480 - val_categorical_accuracy: 0.9609\n",
      "Epoch 22/200\n",
      "9/9 [==============================] - 9s 1s/step - loss: 0.5466 - categorical_accuracy: 0.8256 - val_loss: 0.1464 - val_categorical_accuracy: 0.9609\n",
      "Epoch 23/200\n",
      "9/9 [==============================] - 9s 956ms/step - loss: 0.4039 - categorical_accuracy: 0.8605 - val_loss: 0.1449 - val_categorical_accuracy: 0.9609\n",
      "Epoch 24/200\n",
      "9/9 [==============================] - 9s 985ms/step - loss: 0.4188 - categorical_accuracy: 0.8372 - val_loss: 0.1458 - val_categorical_accuracy: 0.9609\n",
      "Epoch 25/200\n",
      "9/9 [==============================] - 9s 990ms/step - loss: 0.4498 - categorical_accuracy: 0.8527 - val_loss: 0.1451 - val_categorical_accuracy: 0.9609\n",
      "Epoch 26/200\n",
      "9/9 [==============================] - 9s 912ms/step - loss: 0.3778 - categorical_accuracy: 0.8450 - val_loss: 0.1436 - val_categorical_accuracy: 0.9609\n",
      "Epoch 27/200\n",
      "9/9 [==============================] - 9s 959ms/step - loss: 0.4434 - categorical_accuracy: 0.8101 - val_loss: 0.1386 - val_categorical_accuracy: 0.9609\n",
      "Epoch 28/200\n",
      "9/9 [==============================] - 9s 1s/step - loss: 0.4104 - categorical_accuracy: 0.8721 - val_loss: 0.1393 - val_categorical_accuracy: 0.9609\n",
      "Epoch 29/200\n",
      "9/9 [==============================] - 9s 1s/step - loss: 0.4092 - categorical_accuracy: 0.8682 - val_loss: 0.1441 - val_categorical_accuracy: 0.9609\n",
      "Epoch 30/200\n",
      "9/9 [==============================] - 9s 1s/step - loss: 0.3722 - categorical_accuracy: 0.8643 - val_loss: 0.1503 - val_categorical_accuracy: 0.9609\n",
      "Epoch 31/200\n",
      "9/9 [==============================] - 9s 983ms/step - loss: 0.4488 - categorical_accuracy: 0.8450 - val_loss: 0.1550 - val_categorical_accuracy: 0.9609\n",
      "Epoch 32/200\n",
      "9/9 [==============================] - 9s 918ms/step - loss: 0.4326 - categorical_accuracy: 0.8333 - val_loss: 0.1609 - val_categorical_accuracy: 0.9609\n",
      "Epoch 33/200\n",
      "9/9 [==============================] - 9s 972ms/step - loss: 0.4443 - categorical_accuracy: 0.8372 - val_loss: 0.1628 - val_categorical_accuracy: 0.9609\n",
      "Epoch 34/200\n",
      "9/9 [==============================] - 9s 979ms/step - loss: 0.4398 - categorical_accuracy: 0.8488 - val_loss: 0.1587 - val_categorical_accuracy: 0.9609\n",
      "Epoch 35/200\n",
      "9/9 [==============================] - 9s 1s/step - loss: 0.3848 - categorical_accuracy: 0.8682 - val_loss: 0.1549 - val_categorical_accuracy: 0.9609\n",
      "Epoch 36/200\n",
      "9/9 [==============================] - 9s 1s/step - loss: 0.4930 - categorical_accuracy: 0.7946 - val_loss: 0.1459 - val_categorical_accuracy: 0.9609\n",
      "Epoch 37/200\n",
      "9/9 [==============================] - 9s 1s/step - loss: 0.4112 - categorical_accuracy: 0.8333 - val_loss: 0.1434 - val_categorical_accuracy: 0.9609\n",
      "Epoch 38/200\n",
      "9/9 [==============================] - 9s 1s/step - loss: 0.4737 - categorical_accuracy: 0.8178 - val_loss: 0.1411 - val_categorical_accuracy: 0.9609\n",
      "Epoch 39/200\n",
      "9/9 [==============================] - 9s 1s/step - loss: 0.4340 - categorical_accuracy: 0.8372 - val_loss: 0.1413 - val_categorical_accuracy: 0.9609\n",
      "Epoch 40/200\n",
      "9/9 [==============================] - 9s 987ms/step - loss: 0.4173 - categorical_accuracy: 0.8643 - val_loss: 0.1394 - val_categorical_accuracy: 0.9609\n",
      "Epoch 41/200\n",
      "9/9 [==============================] - 9s 1s/step - loss: 0.4389 - categorical_accuracy: 0.8295 - val_loss: 0.1359 - val_categorical_accuracy: 0.9688\n",
      "Epoch 42/200\n",
      "9/9 [==============================] - 9s 1s/step - loss: 0.4057 - categorical_accuracy: 0.8488 - val_loss: 0.1361 - val_categorical_accuracy: 0.9688\n",
      "Epoch 43/200\n",
      "9/9 [==============================] - 9s 1s/step - loss: 0.4193 - categorical_accuracy: 0.8411 - val_loss: 0.1383 - val_categorical_accuracy: 0.9688\n",
      "Epoch 44/200\n",
      "9/9 [==============================] - 9s 910ms/step - loss: 0.3798 - categorical_accuracy: 0.8527 - val_loss: 0.1448 - val_categorical_accuracy: 0.9609\n",
      "Epoch 45/200\n",
      "9/9 [==============================] - 9s 921ms/step - loss: 0.3752 - categorical_accuracy: 0.8682 - val_loss: 0.1486 - val_categorical_accuracy: 0.9609\n",
      "Epoch 46/200\n",
      "9/9 [==============================] - 9s 925ms/step - loss: 0.4455 - categorical_accuracy: 0.8372 - val_loss: 0.1554 - val_categorical_accuracy: 0.9609\n",
      "Epoch 47/200\n",
      "9/9 [==============================] - 9s 1000ms/step - loss: 0.4408 - categorical_accuracy: 0.8527 - val_loss: 0.1567 - val_categorical_accuracy: 0.9609\n",
      "Epoch 48/200\n",
      "9/9 [==============================] - 9s 1s/step - loss: 0.4213 - categorical_accuracy: 0.8527 - val_loss: 0.1529 - val_categorical_accuracy: 0.9609\n",
      "Epoch 49/200\n",
      "9/9 [==============================] - 9s 1s/step - loss: 0.4586 - categorical_accuracy: 0.8295 - val_loss: 0.1494 - val_categorical_accuracy: 0.9609\n",
      "Epoch 50/200\n",
      "9/9 [==============================] - 9s 975ms/step - loss: 0.4342 - categorical_accuracy: 0.8333 - val_loss: 0.1482 - val_categorical_accuracy: 0.9609\n",
      "Epoch 51/200\n",
      "9/9 [==============================] - 9s 961ms/step - loss: 0.3890 - categorical_accuracy: 0.8605 - val_loss: 0.1490 - val_categorical_accuracy: 0.9609\n",
      "Epoch 52/200\n",
      "9/9 [==============================] - 9s 962ms/step - loss: 0.3739 - categorical_accuracy: 0.8566 - val_loss: 0.1490 - val_categorical_accuracy: 0.9609\n",
      "Epoch 53/200\n",
      "9/9 [==============================] - 9s 1s/step - loss: 0.4012 - categorical_accuracy: 0.8488 - val_loss: 0.1494 - val_categorical_accuracy: 0.9609\n",
      "Epoch 54/200\n",
      "9/9 [==============================] - 9s 1s/step - loss: 0.4495 - categorical_accuracy: 0.8450 - val_loss: 0.1525 - val_categorical_accuracy: 0.9609\n",
      "Epoch 55/200\n",
      "9/9 [==============================] - 9s 1s/step - loss: 0.4089 - categorical_accuracy: 0.8411 - val_loss: 0.1547 - val_categorical_accuracy: 0.9609\n",
      "Epoch 56/200\n",
      "9/9 [==============================] - 9s 974ms/step - loss: 0.4604 - categorical_accuracy: 0.8140 - val_loss: 0.1508 - val_categorical_accuracy: 0.9609\n",
      "Epoch 57/200\n",
      "9/9 [==============================] - 9s 1s/step - loss: 0.4844 - categorical_accuracy: 0.8217 - val_loss: 0.1488 - val_categorical_accuracy: 0.9609\n",
      "Epoch 58/200\n",
      "9/9 [==============================] - 9s 1s/step - loss: 0.4128 - categorical_accuracy: 0.8643 - val_loss: 0.1500 - val_categorical_accuracy: 0.9609\n",
      "Epoch 59/200\n",
      "9/9 [==============================] - 9s 947ms/step - loss: 0.4413 - categorical_accuracy: 0.8295 - val_loss: 0.1513 - val_categorical_accuracy: 0.9609\n",
      "Epoch 60/200\n",
      "9/9 [==============================] - 9s 1s/step - loss: 0.4691 - categorical_accuracy: 0.8217 - val_loss: 0.1506 - val_categorical_accuracy: 0.9609\n",
      "Epoch 61/200\n",
      "9/9 [==============================] - 9s 1s/step - loss: 0.3985 - categorical_accuracy: 0.8566 - val_loss: 0.1517 - val_categorical_accuracy: 0.9609\n",
      "Epoch 62/200\n",
      "9/9 [==============================] - 9s 1s/step - loss: 0.4022 - categorical_accuracy: 0.8488 - val_loss: 0.1554 - val_categorical_accuracy: 0.9609\n",
      "Epoch 63/200\n",
      "9/9 [==============================] - 9s 1s/step - loss: 0.4197 - categorical_accuracy: 0.8411 - val_loss: 0.1585 - val_categorical_accuracy: 0.9609\n",
      "Epoch 64/200\n",
      "9/9 [==============================] - 9s 980ms/step - loss: 0.4593 - categorical_accuracy: 0.8411 - val_loss: 0.1588 - val_categorical_accuracy: 0.9609\n",
      "Epoch 65/200\n",
      "9/9 [==============================] - 9s 922ms/step - loss: 0.4582 - categorical_accuracy: 0.8256 - val_loss: 0.1578 - val_categorical_accuracy: 0.9609\n",
      "Epoch 66/200\n",
      "9/9 [==============================] - 9s 971ms/step - loss: 0.3601 - categorical_accuracy: 0.8682 - val_loss: 0.1557 - val_categorical_accuracy: 0.9609\n",
      "Epoch 67/200\n",
      "9/9 [==============================] - 9s 1s/step - loss: 0.4566 - categorical_accuracy: 0.8217 - val_loss: 0.1593 - val_categorical_accuracy: 0.9609\n",
      "Epoch 68/200\n",
      "9/9 [==============================] - 9s 945ms/step - loss: 0.4608 - categorical_accuracy: 0.8140 - val_loss: 0.1609 - val_categorical_accuracy: 0.9609\n",
      "Epoch 69/200\n",
      "9/9 [==============================] - 9s 1s/step - loss: 0.4436 - categorical_accuracy: 0.8527 - val_loss: 0.1625 - val_categorical_accuracy: 0.9609\n",
      "Epoch 70/200\n",
      "9/9 [==============================] - 9s 998ms/step - loss: 0.3912 - categorical_accuracy: 0.8411 - val_loss: 0.1576 - val_categorical_accuracy: 0.9609\n",
      "Epoch 71/200\n",
      "9/9 [==============================] - 9s 1s/step - loss: 0.4564 - categorical_accuracy: 0.8372 - val_loss: 0.1525 - val_categorical_accuracy: 0.9609\n",
      "Epoch 72/200\n",
      "9/9 [==============================] - 9s 1s/step - loss: 0.3814 - categorical_accuracy: 0.8721 - val_loss: 0.1519 - val_categorical_accuracy: 0.9609\n",
      "Epoch 73/200\n",
      "9/9 [==============================] - 9s 1s/step - loss: 0.4001 - categorical_accuracy: 0.8411 - val_loss: 0.1529 - val_categorical_accuracy: 0.9609\n",
      "Epoch 74/200\n",
      "9/9 [==============================] - 9s 1s/step - loss: 0.3504 - categorical_accuracy: 0.8915 - val_loss: 0.1559 - val_categorical_accuracy: 0.9609\n",
      "Epoch 75/200\n",
      "9/9 [==============================] - 9s 962ms/step - loss: 0.4235 - categorical_accuracy: 0.8488 - val_loss: 0.1553 - val_categorical_accuracy: 0.9609\n",
      "Epoch 76/200\n",
      "9/9 [==============================] - 9s 982ms/step - loss: 0.3756 - categorical_accuracy: 0.8566 - val_loss: 0.1585 - val_categorical_accuracy: 0.9609\n",
      "Epoch 77/200\n",
      "9/9 [==============================] - 9s 979ms/step - loss: 0.3743 - categorical_accuracy: 0.8527 - val_loss: 0.1608 - val_categorical_accuracy: 0.9531\n",
      "Epoch 78/200\n",
      "9/9 [==============================] - 9s 1s/step - loss: 0.3980 - categorical_accuracy: 0.8643 - val_loss: 0.1586 - val_categorical_accuracy: 0.9531\n",
      "Epoch 79/200\n",
      "9/9 [==============================] - 9s 1s/step - loss: 0.3920 - categorical_accuracy: 0.8643 - val_loss: 0.1570 - val_categorical_accuracy: 0.9531\n",
      "Epoch 80/200\n",
      "9/9 [==============================] - 9s 1s/step - loss: 0.3786 - categorical_accuracy: 0.8566 - val_loss: 0.1531 - val_categorical_accuracy: 0.9531\n",
      "Epoch 81/200\n",
      "9/9 [==============================] - 9s 1s/step - loss: 0.4034 - categorical_accuracy: 0.8372 - val_loss: 0.1508 - val_categorical_accuracy: 0.9531\n",
      "Epoch 82/200\n",
      "9/9 [==============================] - 9s 1s/step - loss: 0.4332 - categorical_accuracy: 0.8295 - val_loss: 0.1505 - val_categorical_accuracy: 0.9531\n",
      "Epoch 83/200\n",
      "9/9 [==============================] - 9s 1s/step - loss: 0.4165 - categorical_accuracy: 0.8333 - val_loss: 0.1516 - val_categorical_accuracy: 0.9531\n",
      "Epoch 84/200\n",
      "9/9 [==============================] - 9s 1s/step - loss: 0.4242 - categorical_accuracy: 0.8527 - val_loss: 0.1499 - val_categorical_accuracy: 0.9531\n",
      "Epoch 85/200\n",
      "9/9 [==============================] - 9s 1s/step - loss: 0.4153 - categorical_accuracy: 0.8527 - val_loss: 0.1482 - val_categorical_accuracy: 0.9531\n",
      "Epoch 86/200\n",
      "9/9 [==============================] - 9s 1s/step - loss: 0.3781 - categorical_accuracy: 0.8411 - val_loss: 0.1461 - val_categorical_accuracy: 0.9531\n",
      "Epoch 87/200\n",
      "9/9 [==============================] - 9s 1s/step - loss: 0.4336 - categorical_accuracy: 0.8178 - val_loss: 0.1458 - val_categorical_accuracy: 0.9531\n",
      "Epoch 88/200\n",
      "9/9 [==============================] - 9s 1s/step - loss: 0.3802 - categorical_accuracy: 0.8372 - val_loss: 0.1498 - val_categorical_accuracy: 0.9531\n",
      "Epoch 89/200\n",
      "9/9 [==============================] - 9s 992ms/step - loss: 0.3690 - categorical_accuracy: 0.8527 - val_loss: 0.1537 - val_categorical_accuracy: 0.9531\n",
      "Epoch 90/200\n",
      "9/9 [==============================] - 9s 964ms/step - loss: 0.3929 - categorical_accuracy: 0.8527 - val_loss: 0.1545 - val_categorical_accuracy: 0.9531\n",
      "Epoch 91/200\n",
      "9/9 [==============================] - 9s 954ms/step - loss: 0.4491 - categorical_accuracy: 0.8411 - val_loss: 0.1547 - val_categorical_accuracy: 0.9531\n",
      "Epoch 92/200\n",
      "9/9 [==============================] - 9s 1s/step - loss: 0.3545 - categorical_accuracy: 0.8643 - val_loss: 0.1554 - val_categorical_accuracy: 0.9531\n",
      "Epoch 93/200\n",
      "9/9 [==============================] - 9s 1s/step - loss: 0.4519 - categorical_accuracy: 0.8178 - val_loss: 0.1540 - val_categorical_accuracy: 0.9531\n",
      "Epoch 94/200\n",
      "9/9 [==============================] - 9s 1s/step - loss: 0.4148 - categorical_accuracy: 0.8488 - val_loss: 0.1542 - val_categorical_accuracy: 0.9531\n",
      "Epoch 95/200\n",
      "9/9 [==============================] - 9s 1s/step - loss: 0.4105 - categorical_accuracy: 0.8643 - val_loss: 0.1539 - val_categorical_accuracy: 0.9531\n",
      "Epoch 96/200\n",
      "9/9 [==============================] - 9s 1s/step - loss: 0.4218 - categorical_accuracy: 0.8256 - val_loss: 0.1492 - val_categorical_accuracy: 0.9531\n",
      "Epoch 97/200\n",
      "9/9 [==============================] - 9s 1s/step - loss: 0.4436 - categorical_accuracy: 0.8411 - val_loss: 0.1498 - val_categorical_accuracy: 0.9531\n",
      "Epoch 98/200\n",
      "9/9 [==============================] - 9s 971ms/step - loss: 0.3904 - categorical_accuracy: 0.8411 - val_loss: 0.1514 - val_categorical_accuracy: 0.9531\n",
      "Epoch 99/200\n",
      "9/9 [==============================] - 9s 916ms/step - loss: 0.3780 - categorical_accuracy: 0.8605 - val_loss: 0.1531 - val_categorical_accuracy: 0.9531\n",
      "Epoch 100/200\n",
      "9/9 [==============================] - 9s 993ms/step - loss: 0.3895 - categorical_accuracy: 0.8527 - val_loss: 0.1551 - val_categorical_accuracy: 0.9531\n",
      "Epoch 101/200\n",
      "9/9 [==============================] - 9s 1s/step - loss: 0.3887 - categorical_accuracy: 0.8643 - val_loss: 0.1569 - val_categorical_accuracy: 0.9531\n",
      "Epoch 102/200\n",
      "9/9 [==============================] - 9s 990ms/step - loss: 0.4052 - categorical_accuracy: 0.8566 - val_loss: 0.1571 - val_categorical_accuracy: 0.9531\n",
      "Epoch 103/200\n",
      "9/9 [==============================] - 9s 1s/step - loss: 0.4737 - categorical_accuracy: 0.8450 - val_loss: 0.1569 - val_categorical_accuracy: 0.9531\n",
      "Epoch 104/200\n",
      "9/9 [==============================] - 9s 1s/step - loss: 0.3827 - categorical_accuracy: 0.8450 - val_loss: 0.1593 - val_categorical_accuracy: 0.9531\n",
      "Epoch 105/200\n",
      "9/9 [==============================] - 9s 1s/step - loss: 0.5014 - categorical_accuracy: 0.8295 - val_loss: 0.1623 - val_categorical_accuracy: 0.9531\n",
      "Epoch 106/200\n",
      "9/9 [==============================] - 9s 1s/step - loss: 0.3942 - categorical_accuracy: 0.8682 - val_loss: 0.1605 - val_categorical_accuracy: 0.9531\n",
      "Epoch 107/200\n",
      "9/9 [==============================] - 9s 987ms/step - loss: 0.4734 - categorical_accuracy: 0.8140 - val_loss: 0.1598 - val_categorical_accuracy: 0.9531\n",
      "Epoch 108/200\n",
      "9/9 [==============================] - 9s 1s/step - loss: 0.4135 - categorical_accuracy: 0.8488 - val_loss: 0.1579 - val_categorical_accuracy: 0.9531\n",
      "Epoch 109/200\n",
      "9/9 [==============================] - 9s 1s/step - loss: 0.3801 - categorical_accuracy: 0.8450 - val_loss: 0.1588 - val_categorical_accuracy: 0.9531\n",
      "Epoch 110/200\n",
      "9/9 [==============================] - 9s 945ms/step - loss: 0.4063 - categorical_accuracy: 0.8527 - val_loss: 0.1616 - val_categorical_accuracy: 0.9531\n",
      "Epoch 111/200\n",
      "9/9 [==============================] - 9s 995ms/step - loss: 0.3583 - categorical_accuracy: 0.8566 - val_loss: 0.1637 - val_categorical_accuracy: 0.9531\n",
      "Epoch 112/200\n",
      "9/9 [==============================] - 9s 953ms/step - loss: 0.3862 - categorical_accuracy: 0.8527 - val_loss: 0.1629 - val_categorical_accuracy: 0.9531\n",
      "Epoch 113/200\n",
      "9/9 [==============================] - 9s 925ms/step - loss: 0.4232 - categorical_accuracy: 0.8411 - val_loss: 0.1625 - val_categorical_accuracy: 0.9531\n",
      "Epoch 114/200\n",
      "9/9 [==============================] - 9s 1s/step - loss: 0.4080 - categorical_accuracy: 0.8488 - val_loss: 0.1621 - val_categorical_accuracy: 0.9531\n",
      "Epoch 115/200\n",
      "9/9 [==============================] - 9s 1s/step - loss: 0.4581 - categorical_accuracy: 0.8178 - val_loss: 0.1619 - val_categorical_accuracy: 0.9531\n",
      "Epoch 116/200\n",
      "9/9 [==============================] - 9s 1s/step - loss: 0.3781 - categorical_accuracy: 0.8760 - val_loss: 0.1639 - val_categorical_accuracy: 0.9531\n",
      "Epoch 117/200\n",
      "9/9 [==============================] - 9s 1s/step - loss: 0.3873 - categorical_accuracy: 0.8605 - val_loss: 0.1640 - val_categorical_accuracy: 0.9531\n",
      "Epoch 118/200\n",
      "9/9 [==============================] - 9s 969ms/step - loss: 0.4119 - categorical_accuracy: 0.8527 - val_loss: 0.1636 - val_categorical_accuracy: 0.9531\n",
      "Epoch 119/200\n",
      "9/9 [==============================] - 9s 1s/step - loss: 0.3599 - categorical_accuracy: 0.8605 - val_loss: 0.1612 - val_categorical_accuracy: 0.9531\n",
      "Epoch 120/200\n",
      "9/9 [==============================] - 9s 922ms/step - loss: 0.3995 - categorical_accuracy: 0.8488 - val_loss: 0.1590 - val_categorical_accuracy: 0.9531\n",
      "Epoch 121/200\n",
      "9/9 [==============================] - 9s 1s/step - loss: 0.3552 - categorical_accuracy: 0.8488 - val_loss: 0.1587 - val_categorical_accuracy: 0.9531\n",
      "Epoch 122/200\n",
      "9/9 [==============================] - 9s 921ms/step - loss: 0.4445 - categorical_accuracy: 0.8295 - val_loss: 0.1581 - val_categorical_accuracy: 0.9531\n",
      "Epoch 123/200\n",
      "9/9 [==============================] - 9s 918ms/step - loss: 0.4277 - categorical_accuracy: 0.8372 - val_loss: 0.1583 - val_categorical_accuracy: 0.9531\n",
      "Epoch 124/200\n",
      "9/9 [==============================] - 9s 1s/step - loss: 0.3795 - categorical_accuracy: 0.8682 - val_loss: 0.1603 - val_categorical_accuracy: 0.9531\n",
      "Epoch 125/200\n",
      "9/9 [==============================] - 9s 1s/step - loss: 0.3305 - categorical_accuracy: 0.8915 - val_loss: 0.1599 - val_categorical_accuracy: 0.9531\n",
      "Epoch 126/200\n",
      "9/9 [==============================] - 9s 1s/step - loss: 0.4586 - categorical_accuracy: 0.8140 - val_loss: 0.1585 - val_categorical_accuracy: 0.9531\n",
      "Epoch 127/200\n",
      "9/9 [==============================] - 9s 1s/step - loss: 0.4502 - categorical_accuracy: 0.8256 - val_loss: 0.1596 - val_categorical_accuracy: 0.9531\n",
      "Epoch 128/200\n",
      "9/9 [==============================] - 9s 1s/step - loss: 0.3028 - categorical_accuracy: 0.8915 - val_loss: 0.1610 - val_categorical_accuracy: 0.9531\n",
      "Epoch 129/200\n",
      "9/9 [==============================] - 9s 1s/step - loss: 0.3826 - categorical_accuracy: 0.8566 - val_loss: 0.1635 - val_categorical_accuracy: 0.9531\n",
      "Epoch 130/200\n",
      "9/9 [==============================] - 9s 1s/step - loss: 0.3935 - categorical_accuracy: 0.8527 - val_loss: 0.1661 - val_categorical_accuracy: 0.9531\n",
      "Epoch 131/200\n",
      "9/9 [==============================] - 9s 1s/step - loss: 0.3922 - categorical_accuracy: 0.8488 - val_loss: 0.1650 - val_categorical_accuracy: 0.9531\n",
      "Epoch 132/200\n",
      "9/9 [==============================] - 9s 1s/step - loss: 0.3894 - categorical_accuracy: 0.8527 - val_loss: 0.1641 - val_categorical_accuracy: 0.9531\n",
      "Epoch 133/200\n",
      "9/9 [==============================] - 9s 1s/step - loss: 0.4692 - categorical_accuracy: 0.8450 - val_loss: 0.1635 - val_categorical_accuracy: 0.9531\n",
      "Epoch 134/200\n",
      "9/9 [==============================] - 9s 1s/step - loss: 0.3660 - categorical_accuracy: 0.8876 - val_loss: 0.1599 - val_categorical_accuracy: 0.9531\n",
      "Epoch 135/200\n",
      "9/9 [==============================] - 9s 993ms/step - loss: 0.3899 - categorical_accuracy: 0.8527 - val_loss: 0.1579 - val_categorical_accuracy: 0.9531\n",
      "Epoch 136/200\n",
      "9/9 [==============================] - 9s 1s/step - loss: 0.3414 - categorical_accuracy: 0.8643 - val_loss: 0.1578 - val_categorical_accuracy: 0.9531\n",
      "Epoch 137/200\n",
      "9/9 [==============================] - 9s 934ms/step - loss: 0.4280 - categorical_accuracy: 0.8605 - val_loss: 0.1569 - val_categorical_accuracy: 0.9531\n",
      "Epoch 138/200\n",
      "9/9 [==============================] - 9s 1s/step - loss: 0.3965 - categorical_accuracy: 0.8488 - val_loss: 0.1561 - val_categorical_accuracy: 0.9531\n",
      "Epoch 139/200\n",
      "9/9 [==============================] - 9s 961ms/step - loss: 0.4387 - categorical_accuracy: 0.8411 - val_loss: 0.1582 - val_categorical_accuracy: 0.9531\n",
      "Epoch 140/200\n",
      "9/9 [==============================] - 9s 1s/step - loss: 0.3698 - categorical_accuracy: 0.8605 - val_loss: 0.1584 - val_categorical_accuracy: 0.9531\n",
      "Epoch 141/200\n",
      "9/9 [==============================] - 9s 1s/step - loss: 0.3755 - categorical_accuracy: 0.8488 - val_loss: 0.1574 - val_categorical_accuracy: 0.9531\n",
      "Epoch 142/200\n",
      "9/9 [==============================] - 9s 1s/step - loss: 0.3769 - categorical_accuracy: 0.8605 - val_loss: 0.1581 - val_categorical_accuracy: 0.9531\n",
      "Epoch 143/200\n",
      "9/9 [==============================] - 9s 1s/step - loss: 0.3907 - categorical_accuracy: 0.8450 - val_loss: 0.1602 - val_categorical_accuracy: 0.9531\n",
      "Epoch 144/200\n",
      "9/9 [==============================] - 9s 900ms/step - loss: 0.4395 - categorical_accuracy: 0.8333 - val_loss: 0.1612 - val_categorical_accuracy: 0.9531\n",
      "Epoch 145/200\n",
      "9/9 [==============================] - 9s 982ms/step - loss: 0.3441 - categorical_accuracy: 0.8798 - val_loss: 0.1627 - val_categorical_accuracy: 0.9531\n",
      "Epoch 146/200\n",
      "9/9 [==============================] - 9s 1s/step - loss: 0.3655 - categorical_accuracy: 0.8682 - val_loss: 0.1632 - val_categorical_accuracy: 0.9531\n",
      "Epoch 147/200\n",
      "9/9 [==============================] - 9s 1s/step - loss: 0.3915 - categorical_accuracy: 0.8605 - val_loss: 0.1648 - val_categorical_accuracy: 0.9531\n",
      "Epoch 148/200\n",
      "9/9 [==============================] - 9s 988ms/step - loss: 0.3671 - categorical_accuracy: 0.8605 - val_loss: 0.1641 - val_categorical_accuracy: 0.9531\n",
      "Epoch 149/200\n",
      "9/9 [==============================] - 9s 948ms/step - loss: 0.3823 - categorical_accuracy: 0.8450 - val_loss: 0.1635 - val_categorical_accuracy: 0.9531\n",
      "Epoch 150/200\n",
      "9/9 [==============================] - 9s 994ms/step - loss: 0.4126 - categorical_accuracy: 0.8333 - val_loss: 0.1645 - val_categorical_accuracy: 0.9531\n",
      "Epoch 151/200\n",
      "9/9 [==============================] - 9s 1s/step - loss: 0.3736 - categorical_accuracy: 0.8915 - val_loss: 0.1654 - val_categorical_accuracy: 0.9531\n",
      "Epoch 152/200\n",
      "9/9 [==============================] - 9s 1s/step - loss: 0.4357 - categorical_accuracy: 0.8178 - val_loss: 0.1647 - val_categorical_accuracy: 0.9531\n",
      "Epoch 153/200\n",
      "9/9 [==============================] - 9s 1s/step - loss: 0.3365 - categorical_accuracy: 0.8915 - val_loss: 0.1661 - val_categorical_accuracy: 0.9531\n",
      "Epoch 154/200\n",
      "9/9 [==============================] - 9s 933ms/step - loss: 0.3950 - categorical_accuracy: 0.8682 - val_loss: 0.1664 - val_categorical_accuracy: 0.9531\n",
      "Epoch 155/200\n",
      "9/9 [==============================] - 9s 1s/step - loss: 0.3786 - categorical_accuracy: 0.8527 - val_loss: 0.1672 - val_categorical_accuracy: 0.9531\n",
      "Epoch 156/200\n",
      "9/9 [==============================] - 9s 1s/step - loss: 0.3913 - categorical_accuracy: 0.8566 - val_loss: 0.1656 - val_categorical_accuracy: 0.9531\n",
      "Epoch 157/200\n",
      "9/9 [==============================] - 9s 956ms/step - loss: 0.3928 - categorical_accuracy: 0.8605 - val_loss: 0.1650 - val_categorical_accuracy: 0.9531\n",
      "Epoch 158/200\n",
      "9/9 [==============================] - 9s 970ms/step - loss: 0.3913 - categorical_accuracy: 0.8566 - val_loss: 0.1631 - val_categorical_accuracy: 0.9531\n",
      "Epoch 159/200\n",
      "9/9 [==============================] - 9s 947ms/step - loss: 0.3838 - categorical_accuracy: 0.8566 - val_loss: 0.1620 - val_categorical_accuracy: 0.9531\n",
      "Epoch 160/200\n",
      "9/9 [==============================] - 9s 984ms/step - loss: 0.4201 - categorical_accuracy: 0.8527 - val_loss: 0.1613 - val_categorical_accuracy: 0.9531\n",
      "Epoch 161/200\n",
      "9/9 [==============================] - 9s 1s/step - loss: 0.4019 - categorical_accuracy: 0.8682 - val_loss: 0.1621 - val_categorical_accuracy: 0.9531\n",
      "Epoch 162/200\n",
      "9/9 [==============================] - 9s 1s/step - loss: 0.4368 - categorical_accuracy: 0.8488 - val_loss: 0.1663 - val_categorical_accuracy: 0.9531\n",
      "Epoch 163/200\n",
      "9/9 [==============================] - 9s 1s/step - loss: 0.3672 - categorical_accuracy: 0.8643 - val_loss: 0.1679 - val_categorical_accuracy: 0.9531\n",
      "Epoch 164/200\n",
      "9/9 [==============================] - 9s 957ms/step - loss: 0.3476 - categorical_accuracy: 0.8721 - val_loss: 0.1672 - val_categorical_accuracy: 0.9531\n",
      "Epoch 165/200\n",
      "9/9 [==============================] - 9s 1s/step - loss: 0.4249 - categorical_accuracy: 0.8333 - val_loss: 0.1671 - val_categorical_accuracy: 0.9531\n",
      "Epoch 166/200\n",
      "9/9 [==============================] - 9s 1s/step - loss: 0.3634 - categorical_accuracy: 0.8643 - val_loss: 0.1690 - val_categorical_accuracy: 0.9531\n",
      "Epoch 167/200\n",
      "9/9 [==============================] - 9s 1s/step - loss: 0.3549 - categorical_accuracy: 0.8721 - val_loss: 0.1699 - val_categorical_accuracy: 0.9531\n",
      "Epoch 168/200\n",
      "9/9 [==============================] - 9s 987ms/step - loss: 0.4139 - categorical_accuracy: 0.8411 - val_loss: 0.1706 - val_categorical_accuracy: 0.9531\n",
      "Epoch 169/200\n",
      "9/9 [==============================] - 9s 1s/step - loss: 0.3100 - categorical_accuracy: 0.8953 - val_loss: 0.1706 - val_categorical_accuracy: 0.9531\n",
      "Epoch 170/200\n",
      "9/9 [==============================] - 9s 1s/step - loss: 0.3710 - categorical_accuracy: 0.8643 - val_loss: 0.1695 - val_categorical_accuracy: 0.9531\n",
      "Epoch 171/200\n",
      "9/9 [==============================] - 9s 1s/step - loss: 0.3405 - categorical_accuracy: 0.8721 - val_loss: 0.1680 - val_categorical_accuracy: 0.9531\n",
      "Epoch 172/200\n",
      "9/9 [==============================] - 9s 1s/step - loss: 0.4006 - categorical_accuracy: 0.8333 - val_loss: 0.1688 - val_categorical_accuracy: 0.9531\n",
      "Epoch 173/200\n",
      "9/9 [==============================] - 9s 962ms/step - loss: 0.3744 - categorical_accuracy: 0.8721 - val_loss: 0.1684 - val_categorical_accuracy: 0.9531\n",
      "Epoch 174/200\n",
      "9/9 [==============================] - 9s 1s/step - loss: 0.3662 - categorical_accuracy: 0.8798 - val_loss: 0.1668 - val_categorical_accuracy: 0.9531\n",
      "Epoch 175/200\n",
      "9/9 [==============================] - 9s 1000ms/step - loss: 0.3856 - categorical_accuracy: 0.8450 - val_loss: 0.1651 - val_categorical_accuracy: 0.9531\n",
      "Epoch 176/200\n",
      "9/9 [==============================] - 9s 1s/step - loss: 0.3971 - categorical_accuracy: 0.8605 - val_loss: 0.1663 - val_categorical_accuracy: 0.9531\n",
      "Epoch 177/200\n",
      "9/9 [==============================] - 9s 1s/step - loss: 0.3661 - categorical_accuracy: 0.8760 - val_loss: 0.1722 - val_categorical_accuracy: 0.9531\n",
      "Epoch 178/200\n",
      "9/9 [==============================] - 9s 1s/step - loss: 0.3791 - categorical_accuracy: 0.8643 - val_loss: 0.1723 - val_categorical_accuracy: 0.9531\n",
      "Epoch 179/200\n",
      "9/9 [==============================] - 9s 1s/step - loss: 0.3648 - categorical_accuracy: 0.8721 - val_loss: 0.1715 - val_categorical_accuracy: 0.9531\n",
      "Epoch 180/200\n",
      "9/9 [==============================] - 9s 1s/step - loss: 0.3581 - categorical_accuracy: 0.8721 - val_loss: 0.1696 - val_categorical_accuracy: 0.9531\n",
      "Epoch 181/200\n",
      "9/9 [==============================] - 9s 1s/step - loss: 0.3829 - categorical_accuracy: 0.8682 - val_loss: 0.1687 - val_categorical_accuracy: 0.9531\n",
      "Epoch 182/200\n",
      "9/9 [==============================] - 9s 1s/step - loss: 0.4083 - categorical_accuracy: 0.8488 - val_loss: 0.1676 - val_categorical_accuracy: 0.9531\n",
      "Epoch 183/200\n",
      "9/9 [==============================] - 9s 1s/step - loss: 0.3509 - categorical_accuracy: 0.8605 - val_loss: 0.1694 - val_categorical_accuracy: 0.9531\n",
      "Epoch 184/200\n",
      "9/9 [==============================] - 9s 1s/step - loss: 0.3986 - categorical_accuracy: 0.8488 - val_loss: 0.1690 - val_categorical_accuracy: 0.9531\n",
      "Epoch 185/200\n",
      "9/9 [==============================] - 9s 1s/step - loss: 0.3319 - categorical_accuracy: 0.8760 - val_loss: 0.1670 - val_categorical_accuracy: 0.9531\n",
      "Epoch 186/200\n",
      "9/9 [==============================] - 9s 1s/step - loss: 0.4009 - categorical_accuracy: 0.8450 - val_loss: 0.1643 - val_categorical_accuracy: 0.9531\n",
      "Epoch 187/200\n",
      "9/9 [==============================] - 9s 1s/step - loss: 0.3967 - categorical_accuracy: 0.8450 - val_loss: 0.1634 - val_categorical_accuracy: 0.9531\n",
      "Epoch 188/200\n",
      "9/9 [==============================] - 9s 1s/step - loss: 0.4053 - categorical_accuracy: 0.8450 - val_loss: 0.1650 - val_categorical_accuracy: 0.9531\n",
      "Epoch 189/200\n",
      "9/9 [==============================] - 9s 1s/step - loss: 0.4288 - categorical_accuracy: 0.8178 - val_loss: 0.1624 - val_categorical_accuracy: 0.9531\n",
      "Epoch 190/200\n",
      "9/9 [==============================] - 9s 1s/step - loss: 0.4103 - categorical_accuracy: 0.8605 - val_loss: 0.1627 - val_categorical_accuracy: 0.9531\n",
      "Epoch 191/200\n",
      "9/9 [==============================] - 9s 1s/step - loss: 0.3378 - categorical_accuracy: 0.8643 - val_loss: 0.1636 - val_categorical_accuracy: 0.9531\n",
      "Epoch 192/200\n",
      "9/9 [==============================] - 9s 1s/step - loss: 0.3967 - categorical_accuracy: 0.8760 - val_loss: 0.1659 - val_categorical_accuracy: 0.9531\n",
      "Epoch 193/200\n",
      "9/9 [==============================] - 9s 979ms/step - loss: 0.3543 - categorical_accuracy: 0.8721 - val_loss: 0.1654 - val_categorical_accuracy: 0.9531\n",
      "Epoch 194/200\n",
      "9/9 [==============================] - 9s 1s/step - loss: 0.3813 - categorical_accuracy: 0.8605 - val_loss: 0.1678 - val_categorical_accuracy: 0.9531\n",
      "Epoch 195/200\n",
      "9/9 [==============================] - 9s 998ms/step - loss: 0.3618 - categorical_accuracy: 0.8682 - val_loss: 0.1685 - val_categorical_accuracy: 0.9531\n",
      "Epoch 196/200\n",
      "9/9 [==============================] - 9s 998ms/step - loss: 0.3860 - categorical_accuracy: 0.8488 - val_loss: 0.1689 - val_categorical_accuracy: 0.9531\n",
      "Epoch 197/200\n",
      "9/9 [==============================] - 9s 1s/step - loss: 0.3907 - categorical_accuracy: 0.8643 - val_loss: 0.1685 - val_categorical_accuracy: 0.9531\n",
      "Epoch 198/200\n",
      "9/9 [==============================] - 9s 1s/step - loss: 0.4144 - categorical_accuracy: 0.8411 - val_loss: 0.1674 - val_categorical_accuracy: 0.9531\n",
      "Epoch 199/200\n",
      "9/9 [==============================] - 9s 1s/step - loss: 0.3615 - categorical_accuracy: 0.8527 - val_loss: 0.1701 - val_categorical_accuracy: 0.9531\n",
      "Epoch 200/200\n",
      "9/9 [==============================] - 9s 981ms/step - loss: 0.3960 - categorical_accuracy: 0.8721 - val_loss: 0.1783 - val_categorical_accuracy: 0.9453\n"
     ]
    },
    {
     "data": {
      "image/png": "[encoded data removed]",
      "text/plain": [
       "<Figure size 720x288 with 2 Axes>"
      ]
     },
     "metadata": {
      "needs_background": "light"
     },
     "output_type": "display_data"
    }
   ],
   "source": [
    "h = model.fit(\n",
    "    train_gen.flow_from_dataframe(xtr, x_col='path', target_size=(224, 224), validate_filenames=False),\n",
    "    validation_data=test_gen.flow_from_dataframe(xts, x_col='path', target_size=(224, 224), validate_filenames=False),\n",
    "    epochs=200,\n",
    "    # callbacks=[EarlyStopping(min_delta=0.01, patience=60, verbose=1)]\n",
    ")\n",
    "\n",
    "fig, ax = plt.subplots(nrows=1, ncols=2, figsize=(10, 4))\n",
    "ax[0].plot(h.history['loss'], label='Loss')\n",
    "ax[0].plot(h.history['val_loss'], label='Val Loss')\n",
    "ax[1].plot(h.history['categorical_accuracy'], label='Accuracy')\n",
    "ax[1].plot(h.history['val_categorical_accuracy'], label='Val Accuracy')\n",
    "ax[0].legend()\n",
    "ax[1].legend()\n",
    "plt.tight_layout()"
   ]
  },
  {
   "cell_type": "markdown",
   "metadata": {},
   "source": [
    "# LR Test"
   ]
  },
  {
   "cell_type": "code",
   "execution_count": 22,
   "metadata": {},
   "outputs": [],
   "source": [
    "from sklearn.model_selection import StratifiedKFold"
   ]
  },
  {
   "cell_type": "code",
   "execution_count": 25,
   "metadata": {},
   "outputs": [],
   "source": [
    "from tqdm import tqdm"
   ]
  },
  {
   "cell_type": "code",
   "execution_count": 23,
   "metadata": {},
   "outputs": [],
   "source": []
  },
  {
   "cell_type": "code",
   "execution_count": 60,
   "metadata": {
    "scrolled": true,
    "tags": []
   },
   "outputs": [
    {
     "name": "stderr",
     "output_type": "stream",
     "text": [
      "  0%|          | 0/50 [00:00<?, ?it/s]"
     ]
    },
    {
     "name": "stdout",
     "output_type": "stream",
     "text": [
      "Found 289 non-validated image filenames belonging to 5 classes.\n",
      "Found 97 non-validated image filenames belonging to 5 classes.\n"
     ]
    },
    {
     "name": "stderr",
     "output_type": "stream",
     "text": [
      "/home/jaidevd/conda/lib/python3.7/site-packages/PIL/Image.py:974: UserWarning: Palette images with Transparency expressed in bytes should be converted to RGBA images\n",
      "  \"Palette images with Transparency expressed in bytes should be \"\n"
     ]
    },
    {
     "name": "stdout",
     "output_type": "stream",
     "text": [
      "Found 289 non-validated image filenames belonging to 5 classes.\n",
      "Found 97 non-validated image filenames belonging to 5 classes.\n"
     ]
    },
    {
     "name": "stderr",
     "output_type": "stream",
     "text": [
      "/home/jaidevd/conda/lib/python3.7/site-packages/PIL/Image.py:974: UserWarning: Palette images with Transparency expressed in bytes should be converted to RGBA images\n",
      "  \"Palette images with Transparency expressed in bytes should be \"\n"
     ]
    },
    {
     "name": "stdout",
     "output_type": "stream",
     "text": [
      "Found 290 non-validated image filenames belonging to 5 classes.\n",
      "Found 96 non-validated image filenames belonging to 5 classes.\n"
     ]
    },
    {
     "name": "stderr",
     "output_type": "stream",
     "text": [
      "/home/jaidevd/conda/lib/python3.7/site-packages/PIL/Image.py:974: UserWarning: Palette images with Transparency expressed in bytes should be converted to RGBA images\n",
      "  \"Palette images with Transparency expressed in bytes should be \"\n"
     ]
    },
    {
     "name": "stdout",
     "output_type": "stream",
     "text": [
      "Found 290 non-validated image filenames belonging to 5 classes.\n",
      "Found 96 non-validated image filenames belonging to 5 classes.\n"
     ]
    },
    {
     "name": "stderr",
     "output_type": "stream",
     "text": [
      "/home/jaidevd/conda/lib/python3.7/site-packages/PIL/Image.py:974: UserWarning: Palette images with Transparency expressed in bytes should be converted to RGBA images\n",
      "  \"Palette images with Transparency expressed in bytes should be \"\n",
      "  2%|▏         | 1/50 [04:59<4:04:21, 299.22s/it]"
     ]
    },
    {
     "name": "stdout",
     "output_type": "stream",
     "text": [
      "Found 289 non-validated image filenames belonging to 5 classes.\n",
      "Found 97 non-validated image filenames belonging to 5 classes.\n"
     ]
    },
    {
     "name": "stderr",
     "output_type": "stream",
     "text": [
      "/home/jaidevd/conda/lib/python3.7/site-packages/PIL/Image.py:974: UserWarning: Palette images with Transparency expressed in bytes should be converted to RGBA images\n",
      "  \"Palette images with Transparency expressed in bytes should be \"\n"
     ]
    },
    {
     "name": "stdout",
     "output_type": "stream",
     "text": [
      "Found 289 non-validated image filenames belonging to 5 classes.\n",
      "Found 97 non-validated image filenames belonging to 5 classes.\n"
     ]
    },
    {
     "name": "stderr",
     "output_type": "stream",
     "text": [
      "/home/jaidevd/conda/lib/python3.7/site-packages/PIL/Image.py:974: UserWarning: Palette images with Transparency expressed in bytes should be converted to RGBA images\n",
      "  \"Palette images with Transparency expressed in bytes should be \"\n"
     ]
    },
    {
     "name": "stdout",
     "output_type": "stream",
     "text": [
      "Found 290 non-validated image filenames belonging to 5 classes.\n",
      "Found 96 non-validated image filenames belonging to 5 classes.\n"
     ]
    },
    {
     "name": "stderr",
     "output_type": "stream",
     "text": [
      "/home/jaidevd/conda/lib/python3.7/site-packages/PIL/Image.py:974: UserWarning: Palette images with Transparency expressed in bytes should be converted to RGBA images\n",
      "  \"Palette images with Transparency expressed in bytes should be \"\n"
     ]
    },
    {
     "name": "stdout",
     "output_type": "stream",
     "text": [
      "Found 290 non-validated image filenames belonging to 5 classes.\n",
      "Found 96 non-validated image filenames belonging to 5 classes.\n"
     ]
    },
    {
     "name": "stderr",
     "output_type": "stream",
     "text": [
      "/home/jaidevd/conda/lib/python3.7/site-packages/PIL/Image.py:974: UserWarning: Palette images with Transparency expressed in bytes should be converted to RGBA images\n",
      "  \"Palette images with Transparency expressed in bytes should be \"\n",
      "  4%|▍         | 2/50 [09:58<3:59:24, 299.26s/it]"
     ]
    },
    {
     "name": "stdout",
     "output_type": "stream",
     "text": [
      "Found 289 non-validated image filenames belonging to 5 classes.\n",
      "Found 97 non-validated image filenames belonging to 5 classes.\n"
     ]
    },
    {
     "name": "stderr",
     "output_type": "stream",
     "text": [
      "/home/jaidevd/conda/lib/python3.7/site-packages/PIL/Image.py:974: UserWarning: Palette images with Transparency expressed in bytes should be converted to RGBA images\n",
      "  \"Palette images with Transparency expressed in bytes should be \"\n"
     ]
    },
    {
     "name": "stdout",
     "output_type": "stream",
     "text": [
      "Found 289 non-validated image filenames belonging to 5 classes.\n",
      "Found 97 non-validated image filenames belonging to 5 classes.\n"
     ]
    },
    {
     "name": "stderr",
     "output_type": "stream",
     "text": [
      "/home/jaidevd/conda/lib/python3.7/site-packages/PIL/Image.py:974: UserWarning: Palette images with Transparency expressed in bytes should be converted to RGBA images\n",
      "  \"Palette images with Transparency expressed in bytes should be \"\n"
     ]
    },
    {
     "name": "stdout",
     "output_type": "stream",
     "text": [
      "Found 290 non-validated image filenames belonging to 5 classes.\n",
      "Found 96 non-validated image filenames belonging to 5 classes.\n"
     ]
    },
    {
     "name": "stderr",
     "output_type": "stream",
     "text": [
      "/home/jaidevd/conda/lib/python3.7/site-packages/PIL/Image.py:974: UserWarning: Palette images with Transparency expressed in bytes should be converted to RGBA images\n",
      "  \"Palette images with Transparency expressed in bytes should be \"\n"
     ]
    },
    {
     "name": "stdout",
     "output_type": "stream",
     "text": [
      "Found 290 non-validated image filenames belonging to 5 classes.\n",
      "Found 96 non-validated image filenames belonging to 5 classes.\n"
     ]
    },
    {
     "name": "stderr",
     "output_type": "stream",
     "text": [
      "/home/jaidevd/conda/lib/python3.7/site-packages/PIL/Image.py:974: UserWarning: Palette images with Transparency expressed in bytes should be converted to RGBA images\n",
      "  \"Palette images with Transparency expressed in bytes should be \"\n",
      "  6%|▌         | 3/50 [14:56<3:54:01, 298.77s/it]"
     ]
    },
    {
     "name": "stdout",
     "output_type": "stream",
     "text": [
      "Found 289 non-validated image filenames belonging to 5 classes.\n",
      "Found 97 non-validated image filenames belonging to 5 classes.\n"
     ]
    },
    {
     "name": "stderr",
     "output_type": "stream",
     "text": [
      "/home/jaidevd/conda/lib/python3.7/site-packages/PIL/Image.py:974: UserWarning: Palette images with Transparency expressed in bytes should be converted to RGBA images\n",
      "  \"Palette images with Transparency expressed in bytes should be \"\n"
     ]
    },
    {
     "name": "stdout",
     "output_type": "stream",
     "text": [
      "Found 289 non-validated image filenames belonging to 5 classes.\n",
      "Found 97 non-validated image filenames belonging to 5 classes.\n"
     ]
    },
    {
     "name": "stderr",
     "output_type": "stream",
     "text": [
      "/home/jaidevd/conda/lib/python3.7/site-packages/PIL/Image.py:974: UserWarning: Palette images with Transparency expressed in bytes should be converted to RGBA images\n",
      "  \"Palette images with Transparency expressed in bytes should be \"\n"
     ]
    },
    {
     "name": "stdout",
     "output_type": "stream",
     "text": [
      "Found 290 non-validated image filenames belonging to 5 classes.\n",
      "Found 96 non-validated image filenames belonging to 5 classes.\n"
     ]
    },
    {
     "name": "stderr",
     "output_type": "stream",
     "text": [
      "/home/jaidevd/conda/lib/python3.7/site-packages/PIL/Image.py:974: UserWarning: Palette images with Transparency expressed in bytes should be converted to RGBA images\n",
      "  \"Palette images with Transparency expressed in bytes should be \"\n"
     ]
    },
    {
     "name": "stdout",
     "output_type": "stream",
     "text": [
      "Found 290 non-validated image filenames belonging to 5 classes.\n",
      "Found 96 non-validated image filenames belonging to 5 classes.\n"
     ]
    },
    {
     "name": "stderr",
     "output_type": "stream",
     "text": [
      "/home/jaidevd/conda/lib/python3.7/site-packages/PIL/Image.py:974: UserWarning: Palette images with Transparency expressed in bytes should be converted to RGBA images\n",
      "  \"Palette images with Transparency expressed in bytes should be \"\n",
      "  8%|▊         | 4/50 [19:51<3:47:53, 297.24s/it]"
     ]
    },
    {
     "name": "stdout",
     "output_type": "stream",
     "text": [
      "Found 289 non-validated image filenames belonging to 5 classes.\n",
      "Found 97 non-validated image filenames belonging to 5 classes.\n"
     ]
    },
    {
     "name": "stderr",
     "output_type": "stream",
     "text": [
      "/home/jaidevd/conda/lib/python3.7/site-packages/PIL/Image.py:974: UserWarning: Palette images with Transparency expressed in bytes should be converted to RGBA images\n",
      "  \"Palette images with Transparency expressed in bytes should be \"\n"
     ]
    },
    {
     "name": "stdout",
     "output_type": "stream",
     "text": [
      "Found 289 non-validated image filenames belonging to 5 classes.\n",
      "Found 97 non-validated image filenames belonging to 5 classes.\n"
     ]
    },
    {
     "name": "stderr",
     "output_type": "stream",
     "text": [
      "/home/jaidevd/conda/lib/python3.7/site-packages/PIL/Image.py:974: UserWarning: Palette images with Transparency expressed in bytes should be converted to RGBA images\n",
      "  \"Palette images with Transparency expressed in bytes should be \"\n"
     ]
    },
    {
     "name": "stdout",
     "output_type": "stream",
     "text": [
      "Found 290 non-validated image filenames belonging to 5 classes.\n",
      "Found 96 non-validated image filenames belonging to 5 classes.\n"
     ]
    },
    {
     "name": "stderr",
     "output_type": "stream",
     "text": [
      "/home/jaidevd/conda/lib/python3.7/site-packages/PIL/Image.py:974: UserWarning: Palette images with Transparency expressed in bytes should be converted to RGBA images\n",
      "  \"Palette images with Transparency expressed in bytes should be \"\n"
     ]
    },
    {
     "name": "stdout",
     "output_type": "stream",
     "text": [
      "Found 290 non-validated image filenames belonging to 5 classes.\n",
      "Found 96 non-validated image filenames belonging to 5 classes.\n"
     ]
    },
    {
     "name": "stderr",
     "output_type": "stream",
     "text": [
      "/home/jaidevd/conda/lib/python3.7/site-packages/PIL/Image.py:974: UserWarning: Palette images with Transparency expressed in bytes should be converted to RGBA images\n",
      "  \"Palette images with Transparency expressed in bytes should be \"\n",
      " 10%|█         | 5/50 [24:50<3:43:27, 297.94s/it]"
     ]
    },
    {
     "name": "stdout",
     "output_type": "stream",
     "text": [
      "Found 289 non-validated image filenames belonging to 5 classes.\n",
      "Found 97 non-validated image filenames belonging to 5 classes.\n"
     ]
    },
    {
     "name": "stderr",
     "output_type": "stream",
     "text": [
      "/home/jaidevd/conda/lib/python3.7/site-packages/PIL/Image.py:974: UserWarning: Palette images with Transparency expressed in bytes should be converted to RGBA images\n",
      "  \"Palette images with Transparency expressed in bytes should be \"\n"
     ]
    },
    {
     "name": "stdout",
     "output_type": "stream",
     "text": [
      "Found 289 non-validated image filenames belonging to 5 classes.\n",
      "Found 97 non-validated image filenames belonging to 5 classes.\n"
     ]
    },
    {
     "name": "stderr",
     "output_type": "stream",
     "text": [
      "/home/jaidevd/conda/lib/python3.7/site-packages/PIL/Image.py:974: UserWarning: Palette images with Transparency expressed in bytes should be converted to RGBA images\n",
      "  \"Palette images with Transparency expressed in bytes should be \"\n"
     ]
    },
    {
     "name": "stdout",
     "output_type": "stream",
     "text": [
      "Found 290 non-validated image filenames belonging to 5 classes.\n",
      "Found 96 non-validated image filenames belonging to 5 classes.\n"
     ]
    },
    {
     "name": "stderr",
     "output_type": "stream",
     "text": [
      "/home/jaidevd/conda/lib/python3.7/site-packages/PIL/Image.py:974: UserWarning: Palette images with Transparency expressed in bytes should be converted to RGBA images\n",
      "  \"Palette images with Transparency expressed in bytes should be \"\n"
     ]
    },
    {
     "name": "stdout",
     "output_type": "stream",
     "text": [
      "Found 290 non-validated image filenames belonging to 5 classes.\n",
      "Found 96 non-validated image filenames belonging to 5 classes.\n"
     ]
    },
    {
     "name": "stderr",
     "output_type": "stream",
     "text": [
      "/home/jaidevd/conda/lib/python3.7/site-packages/PIL/Image.py:974: UserWarning: Palette images with Transparency expressed in bytes should be converted to RGBA images\n",
      "  \"Palette images with Transparency expressed in bytes should be \"\n",
      " 12%|█▏        | 6/50 [29:47<3:38:11, 297.53s/it]"
     ]
    },
    {
     "name": "stdout",
     "output_type": "stream",
     "text": [
      "Found 289 non-validated image filenames belonging to 5 classes.\n",
      "Found 97 non-validated image filenames belonging to 5 classes.\n"
     ]
    },
    {
     "name": "stderr",
     "output_type": "stream",
     "text": [
      "/home/jaidevd/conda/lib/python3.7/site-packages/PIL/Image.py:974: UserWarning: Palette images with Transparency expressed in bytes should be converted to RGBA images\n",
      "  \"Palette images with Transparency expressed in bytes should be \"\n"
     ]
    },
    {
     "name": "stdout",
     "output_type": "stream",
     "text": [
      "Found 289 non-validated image filenames belonging to 5 classes.\n",
      "Found 97 non-validated image filenames belonging to 5 classes.\n"
     ]
    },
    {
     "name": "stderr",
     "output_type": "stream",
     "text": [
      "/home/jaidevd/conda/lib/python3.7/site-packages/PIL/Image.py:974: UserWarning: Palette images with Transparency expressed in bytes should be converted to RGBA images\n",
      "  \"Palette images with Transparency expressed in bytes should be \"\n"
     ]
    },
    {
     "name": "stdout",
     "output_type": "stream",
     "text": [
      "Found 290 non-validated image filenames belonging to 5 classes.\n",
      "Found 96 non-validated image filenames belonging to 5 classes.\n"
     ]
    },
    {
     "name": "stderr",
     "output_type": "stream",
     "text": [
      "/home/jaidevd/conda/lib/python3.7/site-packages/PIL/Image.py:974: UserWarning: Palette images with Transparency expressed in bytes should be converted to RGBA images\n",
      "  \"Palette images with Transparency expressed in bytes should be \"\n"
     ]
    },
    {
     "name": "stdout",
     "output_type": "stream",
     "text": [
      "Found 290 non-validated image filenames belonging to 5 classes.\n",
      "Found 96 non-validated image filenames belonging to 5 classes.\n"
     ]
    },
    {
     "name": "stderr",
     "output_type": "stream",
     "text": [
      "/home/jaidevd/conda/lib/python3.7/site-packages/PIL/Image.py:974: UserWarning: Palette images with Transparency expressed in bytes should be converted to RGBA images\n",
      "  \"Palette images with Transparency expressed in bytes should be \"\n",
      " 14%|█▍        | 7/50 [34:43<3:32:46, 296.90s/it]"
     ]
    },
    {
     "name": "stdout",
     "output_type": "stream",
     "text": [
      "Found 289 non-validated image filenames belonging to 5 classes.\n",
      "Found 97 non-validated image filenames belonging to 5 classes.\n"
     ]
    },
    {
     "name": "stderr",
     "output_type": "stream",
     "text": [
      "/home/jaidevd/conda/lib/python3.7/site-packages/PIL/Image.py:974: UserWarning: Palette images with Transparency expressed in bytes should be converted to RGBA images\n",
      "  \"Palette images with Transparency expressed in bytes should be \"\n"
     ]
    },
    {
     "name": "stdout",
     "output_type": "stream",
     "text": [
      "Found 289 non-validated image filenames belonging to 5 classes.\n",
      "Found 97 non-validated image filenames belonging to 5 classes.\n"
     ]
    },
    {
     "name": "stderr",
     "output_type": "stream",
     "text": [
      "/home/jaidevd/conda/lib/python3.7/site-packages/PIL/Image.py:974: UserWarning: Palette images with Transparency expressed in bytes should be converted to RGBA images\n",
      "  \"Palette images with Transparency expressed in bytes should be \"\n"
     ]
    },
    {
     "name": "stdout",
     "output_type": "stream",
     "text": [
      "Found 290 non-validated image filenames belonging to 5 classes.\n",
      "Found 96 non-validated image filenames belonging to 5 classes.\n"
     ]
    },
    {
     "name": "stderr",
     "output_type": "stream",
     "text": [
      "/home/jaidevd/conda/lib/python3.7/site-packages/PIL/Image.py:974: UserWarning: Palette images with Transparency expressed in bytes should be converted to RGBA images\n",
      "  \"Palette images with Transparency expressed in bytes should be \"\n"
     ]
    },
    {
     "name": "stdout",
     "output_type": "stream",
     "text": [
      "Found 290 non-validated image filenames belonging to 5 classes.\n",
      "Found 96 non-validated image filenames belonging to 5 classes.\n"
     ]
    },
    {
     "name": "stderr",
     "output_type": "stream",
     "text": [
      "/home/jaidevd/conda/lib/python3.7/site-packages/PIL/Image.py:974: UserWarning: Palette images with Transparency expressed in bytes should be converted to RGBA images\n",
      "  \"Palette images with Transparency expressed in bytes should be \"\n",
      " 16%|█▌        | 8/50 [39:41<3:28:10, 297.39s/it]"
     ]
    },
    {
     "name": "stdout",
     "output_type": "stream",
     "text": [
      "Found 289 non-validated image filenames belonging to 5 classes.\n",
      "Found 97 non-validated image filenames belonging to 5 classes.\n"
     ]
    },
    {
     "name": "stderr",
     "output_type": "stream",
     "text": [
      "/home/jaidevd/conda/lib/python3.7/site-packages/PIL/Image.py:974: UserWarning: Palette images with Transparency expressed in bytes should be converted to RGBA images\n",
      "  \"Palette images with Transparency expressed in bytes should be \"\n"
     ]
    },
    {
     "name": "stdout",
     "output_type": "stream",
     "text": [
      "Found 289 non-validated image filenames belonging to 5 classes.\n",
      "Found 97 non-validated image filenames belonging to 5 classes.\n"
     ]
    },
    {
     "name": "stderr",
     "output_type": "stream",
     "text": [
      "/home/jaidevd/conda/lib/python3.7/site-packages/PIL/Image.py:974: UserWarning: Palette images with Transparency expressed in bytes should be converted to RGBA images\n",
      "  \"Palette images with Transparency expressed in bytes should be \"\n"
     ]
    },
    {
     "name": "stdout",
     "output_type": "stream",
     "text": [
      "Found 290 non-validated image filenames belonging to 5 classes.\n",
      "Found 96 non-validated image filenames belonging to 5 classes.\n"
     ]
    },
    {
     "name": "stderr",
     "output_type": "stream",
     "text": [
      "/home/jaidevd/conda/lib/python3.7/site-packages/PIL/Image.py:974: UserWarning: Palette images with Transparency expressed in bytes should be converted to RGBA images\n",
      "  \"Palette images with Transparency expressed in bytes should be \"\n"
     ]
    },
    {
     "name": "stdout",
     "output_type": "stream",
     "text": [
      "Found 290 non-validated image filenames belonging to 5 classes.\n",
      "Found 96 non-validated image filenames belonging to 5 classes.\n"
     ]
    },
    {
     "name": "stderr",
     "output_type": "stream",
     "text": [
      "/home/jaidevd/conda/lib/python3.7/site-packages/PIL/Image.py:974: UserWarning: Palette images with Transparency expressed in bytes should be converted to RGBA images\n",
      "  \"Palette images with Transparency expressed in bytes should be \"\n",
      " 18%|█▊        | 9/50 [44:38<3:23:02, 297.14s/it]"
     ]
    },
    {
     "name": "stdout",
     "output_type": "stream",
     "text": [
      "Found 289 non-validated image filenames belonging to 5 classes.\n",
      "Found 97 non-validated image filenames belonging to 5 classes.\n"
     ]
    },
    {
     "name": "stderr",
     "output_type": "stream",
     "text": [
      "/home/jaidevd/conda/lib/python3.7/site-packages/PIL/Image.py:974: UserWarning: Palette images with Transparency expressed in bytes should be converted to RGBA images\n",
      "  \"Palette images with Transparency expressed in bytes should be \"\n"
     ]
    },
    {
     "name": "stdout",
     "output_type": "stream",
     "text": [
      "Found 289 non-validated image filenames belonging to 5 classes.\n",
      "Found 97 non-validated image filenames belonging to 5 classes.\n"
     ]
    },
    {
     "name": "stderr",
     "output_type": "stream",
     "text": [
      "/home/jaidevd/conda/lib/python3.7/site-packages/PIL/Image.py:974: UserWarning: Palette images with Transparency expressed in bytes should be converted to RGBA images\n",
      "  \"Palette images with Transparency expressed in bytes should be \"\n"
     ]
    },
    {
     "name": "stdout",
     "output_type": "stream",
     "text": [
      "Found 290 non-validated image filenames belonging to 5 classes.\n",
      "Found 96 non-validated image filenames belonging to 5 classes.\n"
     ]
    },
    {
     "name": "stderr",
     "output_type": "stream",
     "text": [
      "/home/jaidevd/conda/lib/python3.7/site-packages/PIL/Image.py:974: UserWarning: Palette images with Transparency expressed in bytes should be converted to RGBA images\n",
      "  \"Palette images with Transparency expressed in bytes should be \"\n"
     ]
    },
    {
     "name": "stdout",
     "output_type": "stream",
     "text": [
      "Found 290 non-validated image filenames belonging to 5 classes.\n",
      "Found 96 non-validated image filenames belonging to 5 classes.\n"
     ]
    },
    {
     "name": "stderr",
     "output_type": "stream",
     "text": [
      "/home/jaidevd/conda/lib/python3.7/site-packages/PIL/Image.py:974: UserWarning: Palette images with Transparency expressed in bytes should be converted to RGBA images\n",
      "  \"Palette images with Transparency expressed in bytes should be \"\n",
      " 20%|██        | 10/50 [49:36<3:18:15, 297.38s/it]"
     ]
    },
    {
     "name": "stdout",
     "output_type": "stream",
     "text": [
      "Found 289 non-validated image filenames belonging to 5 classes.\n",
      "Found 97 non-validated image filenames belonging to 5 classes.\n"
     ]
    },
    {
     "name": "stderr",
     "output_type": "stream",
     "text": [
      "/home/jaidevd/conda/lib/python3.7/site-packages/PIL/Image.py:974: UserWarning: Palette images with Transparency expressed in bytes should be converted to RGBA images\n",
      "  \"Palette images with Transparency expressed in bytes should be \"\n"
     ]
    },
    {
     "name": "stdout",
     "output_type": "stream",
     "text": [
      "Found 289 non-validated image filenames belonging to 5 classes.\n",
      "Found 97 non-validated image filenames belonging to 5 classes.\n"
     ]
    },
    {
     "name": "stderr",
     "output_type": "stream",
     "text": [
      "/home/jaidevd/conda/lib/python3.7/site-packages/PIL/Image.py:974: UserWarning: Palette images with Transparency expressed in bytes should be converted to RGBA images\n",
      "  \"Palette images with Transparency expressed in bytes should be \"\n"
     ]
    },
    {
     "name": "stdout",
     "output_type": "stream",
     "text": [
      "Found 290 non-validated image filenames belonging to 5 classes.\n",
      "Found 96 non-validated image filenames belonging to 5 classes.\n"
     ]
    },
    {
     "name": "stderr",
     "output_type": "stream",
     "text": [
      "/home/jaidevd/conda/lib/python3.7/site-packages/PIL/Image.py:974: UserWarning: Palette images with Transparency expressed in bytes should be converted to RGBA images\n",
      "  \"Palette images with Transparency expressed in bytes should be \"\n"
     ]
    },
    {
     "name": "stdout",
     "output_type": "stream",
     "text": [
      "Found 290 non-validated image filenames belonging to 5 classes.\n",
      "Found 96 non-validated image filenames belonging to 5 classes.\n"
     ]
    },
    {
     "name": "stderr",
     "output_type": "stream",
     "text": [
      "/home/jaidevd/conda/lib/python3.7/site-packages/PIL/Image.py:974: UserWarning: Palette images with Transparency expressed in bytes should be converted to RGBA images\n",
      "  \"Palette images with Transparency expressed in bytes should be \"\n",
      " 22%|██▏       | 11/50 [54:35<3:13:42, 298.02s/it]"
     ]
    },
    {
     "name": "stdout",
     "output_type": "stream",
     "text": [
      "Found 289 non-validated image filenames belonging to 5 classes.\n",
      "Found 97 non-validated image filenames belonging to 5 classes.\n"
     ]
    },
    {
     "name": "stderr",
     "output_type": "stream",
     "text": [
      "/home/jaidevd/conda/lib/python3.7/site-packages/PIL/Image.py:974: UserWarning: Palette images with Transparency expressed in bytes should be converted to RGBA images\n",
      "  \"Palette images with Transparency expressed in bytes should be \"\n"
     ]
    },
    {
     "name": "stdout",
     "output_type": "stream",
     "text": [
      "Found 289 non-validated image filenames belonging to 5 classes.\n",
      "Found 97 non-validated image filenames belonging to 5 classes.\n"
     ]
    },
    {
     "name": "stderr",
     "output_type": "stream",
     "text": [
      "/home/jaidevd/conda/lib/python3.7/site-packages/PIL/Image.py:974: UserWarning: Palette images with Transparency expressed in bytes should be converted to RGBA images\n",
      "  \"Palette images with Transparency expressed in bytes should be \"\n"
     ]
    },
    {
     "name": "stdout",
     "output_type": "stream",
     "text": [
      "Found 290 non-validated image filenames belonging to 5 classes.\n",
      "Found 96 non-validated image filenames belonging to 5 classes.\n"
     ]
    },
    {
     "name": "stderr",
     "output_type": "stream",
     "text": [
      "/home/jaidevd/conda/lib/python3.7/site-packages/PIL/Image.py:974: UserWarning: Palette images with Transparency expressed in bytes should be converted to RGBA images\n",
      "  \"Palette images with Transparency expressed in bytes should be \"\n"
     ]
    },
    {
     "name": "stdout",
     "output_type": "stream",
     "text": [
      "Found 290 non-validated image filenames belonging to 5 classes.\n",
      "Found 96 non-validated image filenames belonging to 5 classes.\n"
     ]
    },
    {
     "name": "stderr",
     "output_type": "stream",
     "text": [
      "/home/jaidevd/conda/lib/python3.7/site-packages/PIL/Image.py:974: UserWarning: Palette images with Transparency expressed in bytes should be converted to RGBA images\n",
      "  \"Palette images with Transparency expressed in bytes should be \"\n",
      " 24%|██▍       | 12/50 [59:33<3:08:44, 298.02s/it]"
     ]
    },
    {
     "name": "stdout",
     "output_type": "stream",
     "text": [
      "Found 289 non-validated image filenames belonging to 5 classes.\n",
      "Found 97 non-validated image filenames belonging to 5 classes.\n"
     ]
    },
    {
     "name": "stderr",
     "output_type": "stream",
     "text": [
      "/home/jaidevd/conda/lib/python3.7/site-packages/PIL/Image.py:974: UserWarning: Palette images with Transparency expressed in bytes should be converted to RGBA images\n",
      "  \"Palette images with Transparency expressed in bytes should be \"\n"
     ]
    },
    {
     "name": "stdout",
     "output_type": "stream",
     "text": [
      "Found 289 non-validated image filenames belonging to 5 classes.\n",
      "Found 97 non-validated image filenames belonging to 5 classes.\n"
     ]
    },
    {
     "name": "stderr",
     "output_type": "stream",
     "text": [
      "/home/jaidevd/conda/lib/python3.7/site-packages/PIL/Image.py:974: UserWarning: Palette images with Transparency expressed in bytes should be converted to RGBA images\n",
      "  \"Palette images with Transparency expressed in bytes should be \"\n"
     ]
    },
    {
     "name": "stdout",
     "output_type": "stream",
     "text": [
      "Found 290 non-validated image filenames belonging to 5 classes.\n",
      "Found 96 non-validated image filenames belonging to 5 classes.\n"
     ]
    },
    {
     "name": "stderr",
     "output_type": "stream",
     "text": [
      "/home/jaidevd/conda/lib/python3.7/site-packages/PIL/Image.py:974: UserWarning: Palette images with Transparency expressed in bytes should be converted to RGBA images\n",
      "  \"Palette images with Transparency expressed in bytes should be \"\n"
     ]
    },
    {
     "name": "stdout",
     "output_type": "stream",
     "text": [
      "Found 290 non-validated image filenames belonging to 5 classes.\n",
      "Found 96 non-validated image filenames belonging to 5 classes.\n"
     ]
    },
    {
     "name": "stderr",
     "output_type": "stream",
     "text": [
      "/home/jaidevd/conda/lib/python3.7/site-packages/PIL/Image.py:974: UserWarning: Palette images with Transparency expressed in bytes should be converted to RGBA images\n",
      "  \"Palette images with Transparency expressed in bytes should be \"\n",
      " 26%|██▌       | 13/50 [1:04:29<3:03:19, 297.29s/it]"
     ]
    },
    {
     "name": "stdout",
     "output_type": "stream",
     "text": [
      "Found 289 non-validated image filenames belonging to 5 classes.\n",
      "Found 97 non-validated image filenames belonging to 5 classes.\n"
     ]
    },
    {
     "name": "stderr",
     "output_type": "stream",
     "text": [
      "/home/jaidevd/conda/lib/python3.7/site-packages/PIL/Image.py:974: UserWarning: Palette images with Transparency expressed in bytes should be converted to RGBA images\n",
      "  \"Palette images with Transparency expressed in bytes should be \"\n"
     ]
    },
    {
     "name": "stdout",
     "output_type": "stream",
     "text": [
      "Found 289 non-validated image filenames belonging to 5 classes.\n",
      "Found 97 non-validated image filenames belonging to 5 classes.\n"
     ]
    },
    {
     "name": "stderr",
     "output_type": "stream",
     "text": [
      "/home/jaidevd/conda/lib/python3.7/site-packages/PIL/Image.py:974: UserWarning: Palette images with Transparency expressed in bytes should be converted to RGBA images\n",
      "  \"Palette images with Transparency expressed in bytes should be \"\n"
     ]
    },
    {
     "name": "stdout",
     "output_type": "stream",
     "text": [
      "Found 290 non-validated image filenames belonging to 5 classes.\n",
      "Found 96 non-validated image filenames belonging to 5 classes.\n"
     ]
    },
    {
     "name": "stderr",
     "output_type": "stream",
     "text": [
      "/home/jaidevd/conda/lib/python3.7/site-packages/PIL/Image.py:974: UserWarning: Palette images with Transparency expressed in bytes should be converted to RGBA images\n",
      "  \"Palette images with Transparency expressed in bytes should be \"\n"
     ]
    },
    {
     "name": "stdout",
     "output_type": "stream",
     "text": [
      "Found 290 non-validated image filenames belonging to 5 classes.\n",
      "Found 96 non-validated image filenames belonging to 5 classes.\n"
     ]
    },
    {
     "name": "stderr",
     "output_type": "stream",
     "text": [
      "/home/jaidevd/conda/lib/python3.7/site-packages/PIL/Image.py:974: UserWarning: Palette images with Transparency expressed in bytes should be converted to RGBA images\n",
      "  \"Palette images with Transparency expressed in bytes should be \"\n",
      " 28%|██▊       | 14/50 [1:09:26<2:58:26, 297.40s/it]"
     ]
    },
    {
     "name": "stdout",
     "output_type": "stream",
     "text": [
      "Found 289 non-validated image filenames belonging to 5 classes.\n",
      "Found 97 non-validated image filenames belonging to 5 classes.\n"
     ]
    },
    {
     "name": "stderr",
     "output_type": "stream",
     "text": [
      " 28%|██▊       | 14/50 [1:09:56<2:59:49, 299.72s/it]\n"
     ]
    },
    {
     "ename": "KeyboardInterrupt",
     "evalue": "",
     "output_type": "error",
     "traceback": [
      "\u001b[0;31m---------------------------------------------------------------------------\u001b[0m",
      "\u001b[0;31mKeyboardInterrupt\u001b[0m                         Traceback (most recent call last)",
      "\u001b[0;32m<ipython-input-60-18c45ab6d6e7>\u001b[0m in \u001b[0;36m<module>\u001b[0;34m\u001b[0m\n\u001b[1;32m     17\u001b[0m             \u001b[0mxts\u001b[0m\u001b[0;34m,\u001b[0m \u001b[0mx_col\u001b[0m\u001b[0;34m=\u001b[0m\u001b[0;34m'path'\u001b[0m\u001b[0;34m,\u001b[0m \u001b[0mtarget_size\u001b[0m\u001b[0;34m=\u001b[0m\u001b[0;34m(\u001b[0m\u001b[0;36m224\u001b[0m\u001b[0;34m,\u001b[0m \u001b[0;36m224\u001b[0m\u001b[0;34m)\u001b[0m\u001b[0;34m,\u001b[0m \u001b[0mvalidate_filenames\u001b[0m\u001b[0;34m=\u001b[0m\u001b[0;32mFalse\u001b[0m\u001b[0;34m\u001b[0m\u001b[0;34m\u001b[0m\u001b[0m\n\u001b[1;32m     18\u001b[0m         )\n\u001b[0;32m---> 19\u001b[0;31m         \u001b[0mmodel\u001b[0m\u001b[0;34m.\u001b[0m\u001b[0mfit\u001b[0m\u001b[0;34m(\u001b[0m\u001b[0mtraingen\u001b[0m\u001b[0;34m,\u001b[0m \u001b[0mverbose\u001b[0m\u001b[0;34m=\u001b[0m\u001b[0;36m0\u001b[0m\u001b[0;34m,\u001b[0m \u001b[0mepochs\u001b[0m\u001b[0;34m=\u001b[0m\u001b[0;36m10\u001b[0m\u001b[0;34m)\u001b[0m\u001b[0;34m\u001b[0m\u001b[0;34m\u001b[0m\u001b[0m\n\u001b[0m\u001b[1;32m     20\u001b[0m         \u001b[0mp\u001b[0m \u001b[0;34m=\u001b[0m \u001b[0mmodel\u001b[0m\u001b[0;34m.\u001b[0m\u001b[0mpredict\u001b[0m\u001b[0;34m(\u001b[0m\u001b[0mtestgen\u001b[0m\u001b[0;34m)\u001b[0m\u001b[0;34m.\u001b[0m\u001b[0margmax\u001b[0m\u001b[0;34m(\u001b[0m\u001b[0maxis\u001b[0m\u001b[0;34m=\u001b[0m\u001b[0;36m1\u001b[0m\u001b[0;34m)\u001b[0m\u001b[0;34m\u001b[0m\u001b[0;34m\u001b[0m\u001b[0m\n\u001b[1;32m     21\u001b[0m         \u001b[0mix2cls\u001b[0m \u001b[0;34m=\u001b[0m \u001b[0;34m{\u001b[0m\u001b[0mv\u001b[0m\u001b[0;34m:\u001b[0m \u001b[0mk\u001b[0m \u001b[0;32mfor\u001b[0m \u001b[0mk\u001b[0m\u001b[0;34m,\u001b[0m \u001b[0mv\u001b[0m \u001b[0;32min\u001b[0m \u001b[0mtestgen\u001b[0m\u001b[0;34m.\u001b[0m\u001b[0mclass_indices\u001b[0m\u001b[0;34m.\u001b[0m\u001b[0mitems\u001b[0m\u001b[0;34m(\u001b[0m\u001b[0;34m)\u001b[0m\u001b[0;34m}\u001b[0m\u001b[0;34m\u001b[0m\u001b[0;34m\u001b[0m\u001b[0m\n",
      "\u001b[0;32m~/conda/lib/python3.7/site-packages/tensorflow/python/keras/engine/training.py\u001b[0m in \u001b[0;36mfit\u001b[0;34m(self, x, y, batch_size, epochs, verbose, callbacks, validation_split, validation_data, shuffle, class_weight, sample_weight, initial_epoch, steps_per_epoch, validation_steps, validation_batch_size, validation_freq, max_queue_size, workers, use_multiprocessing)\u001b[0m\n\u001b[1;32m   1176\u001b[0m                 _r=1):\n\u001b[1;32m   1177\u001b[0m               \u001b[0mcallbacks\u001b[0m\u001b[0;34m.\u001b[0m\u001b[0mon_train_batch_begin\u001b[0m\u001b[0;34m(\u001b[0m\u001b[0mstep\u001b[0m\u001b[0;34m)\u001b[0m\u001b[0;34m\u001b[0m\u001b[0;34m\u001b[0m\u001b[0m\n\u001b[0;32m-> 1178\u001b[0;31m               \u001b[0mtmp_logs\u001b[0m \u001b[0;34m=\u001b[0m \u001b[0mself\u001b[0m\u001b[0;34m.\u001b[0m\u001b[0mtrain_function\u001b[0m\u001b[0;34m(\u001b[0m\u001b[0miterator\u001b[0m\u001b[0;34m)\u001b[0m\u001b[0;34m\u001b[0m\u001b[0;34m\u001b[0m\u001b[0m\n\u001b[0m\u001b[1;32m   1179\u001b[0m               \u001b[0;32mif\u001b[0m \u001b[0mdata_handler\u001b[0m\u001b[0;34m.\u001b[0m\u001b[0mshould_sync\u001b[0m\u001b[0;34m:\u001b[0m\u001b[0;34m\u001b[0m\u001b[0;34m\u001b[0m\u001b[0m\n\u001b[1;32m   1180\u001b[0m                 \u001b[0mcontext\u001b[0m\u001b[0;34m.\u001b[0m\u001b[0masync_wait\u001b[0m\u001b[0;34m(\u001b[0m\u001b[0;34m)\u001b[0m\u001b[0;34m\u001b[0m\u001b[0;34m\u001b[0m\u001b[0m\n",
      "\u001b[0;32m~/conda/lib/python3.7/site-packages/tensorflow/python/eager/def_function.py\u001b[0m in \u001b[0;36m__call__\u001b[0;34m(self, *args, **kwds)\u001b[0m\n\u001b[1;32m    887\u001b[0m \u001b[0;34m\u001b[0m\u001b[0m\n\u001b[1;32m    888\u001b[0m       \u001b[0;32mwith\u001b[0m \u001b[0mOptionalXlaContext\u001b[0m\u001b[0;34m(\u001b[0m\u001b[0mself\u001b[0m\u001b[0;34m.\u001b[0m\u001b[0m_jit_compile\u001b[0m\u001b[0;34m)\u001b[0m\u001b[0;34m:\u001b[0m\u001b[0;34m\u001b[0m\u001b[0;34m\u001b[0m\u001b[0m\n\u001b[0;32m--> 889\u001b[0;31m         \u001b[0mresult\u001b[0m \u001b[0;34m=\u001b[0m \u001b[0mself\u001b[0m\u001b[0;34m.\u001b[0m\u001b[0m_call\u001b[0m\u001b[0;34m(\u001b[0m\u001b[0;34m*\u001b[0m\u001b[0margs\u001b[0m\u001b[0;34m,\u001b[0m \u001b[0;34m**\u001b[0m\u001b[0mkwds\u001b[0m\u001b[0;34m)\u001b[0m\u001b[0;34m\u001b[0m\u001b[0;34m\u001b[0m\u001b[0m\n\u001b[0m\u001b[1;32m    890\u001b[0m \u001b[0;34m\u001b[0m\u001b[0m\n\u001b[1;32m    891\u001b[0m       \u001b[0mnew_tracing_count\u001b[0m \u001b[0;34m=\u001b[0m \u001b[0mself\u001b[0m\u001b[0;34m.\u001b[0m\u001b[0mexperimental_get_tracing_count\u001b[0m\u001b[0;34m(\u001b[0m\u001b[0;34m)\u001b[0m\u001b[0;34m\u001b[0m\u001b[0;34m\u001b[0m\u001b[0m\n",
      "\u001b[0;32m~/conda/lib/python3.7/site-packages/tensorflow/python/eager/def_function.py\u001b[0m in \u001b[0;36m_call\u001b[0;34m(self, *args, **kwds)\u001b[0m\n\u001b[1;32m    915\u001b[0m       \u001b[0;31m# In this case we have created variables on the first call, so we run the\u001b[0m\u001b[0;34m\u001b[0m\u001b[0;34m\u001b[0m\u001b[0;34m\u001b[0m\u001b[0m\n\u001b[1;32m    916\u001b[0m       \u001b[0;31m# defunned version which is guaranteed to never create variables.\u001b[0m\u001b[0;34m\u001b[0m\u001b[0;34m\u001b[0m\u001b[0;34m\u001b[0m\u001b[0m\n\u001b[0;32m--> 917\u001b[0;31m       \u001b[0;32mreturn\u001b[0m \u001b[0mself\u001b[0m\u001b[0;34m.\u001b[0m\u001b[0m_stateless_fn\u001b[0m\u001b[0;34m(\u001b[0m\u001b[0;34m*\u001b[0m\u001b[0margs\u001b[0m\u001b[0;34m,\u001b[0m \u001b[0;34m**\u001b[0m\u001b[0mkwds\u001b[0m\u001b[0;34m)\u001b[0m  \u001b[0;31m# pylint: disable=not-callable\u001b[0m\u001b[0;34m\u001b[0m\u001b[0;34m\u001b[0m\u001b[0m\n\u001b[0m\u001b[1;32m    918\u001b[0m     \u001b[0;32melif\u001b[0m \u001b[0mself\u001b[0m\u001b[0;34m.\u001b[0m\u001b[0m_stateful_fn\u001b[0m \u001b[0;32mis\u001b[0m \u001b[0;32mnot\u001b[0m \u001b[0;32mNone\u001b[0m\u001b[0;34m:\u001b[0m\u001b[0;34m\u001b[0m\u001b[0;34m\u001b[0m\u001b[0m\n\u001b[1;32m    919\u001b[0m       \u001b[0;31m# Release the lock early so that multiple threads can perform the call\u001b[0m\u001b[0;34m\u001b[0m\u001b[0;34m\u001b[0m\u001b[0;34m\u001b[0m\u001b[0m\n",
      "\u001b[0;32m~/conda/lib/python3.7/site-packages/tensorflow/python/eager/function.py\u001b[0m in \u001b[0;36m__call__\u001b[0;34m(self, *args, **kwargs)\u001b[0m\n\u001b[1;32m   3022\u001b[0m        filtered_flat_args) = self._maybe_define_function(args, kwargs)\n\u001b[1;32m   3023\u001b[0m     return graph_function._call_flat(\n\u001b[0;32m-> 3024\u001b[0;31m         filtered_flat_args, captured_inputs=graph_function.captured_inputs)  # pylint: disable=protected-access\n\u001b[0m\u001b[1;32m   3025\u001b[0m \u001b[0;34m\u001b[0m\u001b[0m\n\u001b[1;32m   3026\u001b[0m   \u001b[0;34m@\u001b[0m\u001b[0mproperty\u001b[0m\u001b[0;34m\u001b[0m\u001b[0;34m\u001b[0m\u001b[0m\n",
      "\u001b[0;32m~/conda/lib/python3.7/site-packages/tensorflow/python/eager/function.py\u001b[0m in \u001b[0;36m_call_flat\u001b[0;34m(self, args, captured_inputs, cancellation_manager)\u001b[0m\n\u001b[1;32m   1959\u001b[0m       \u001b[0;31m# No tape is watching; skip to running the function.\u001b[0m\u001b[0;34m\u001b[0m\u001b[0;34m\u001b[0m\u001b[0;34m\u001b[0m\u001b[0m\n\u001b[1;32m   1960\u001b[0m       return self._build_call_outputs(self._inference_function.call(\n\u001b[0;32m-> 1961\u001b[0;31m           ctx, args, cancellation_manager=cancellation_manager))\n\u001b[0m\u001b[1;32m   1962\u001b[0m     forward_backward = self._select_forward_and_backward_functions(\n\u001b[1;32m   1963\u001b[0m         \u001b[0margs\u001b[0m\u001b[0;34m,\u001b[0m\u001b[0;34m\u001b[0m\u001b[0;34m\u001b[0m\u001b[0m\n",
      "\u001b[0;32m~/conda/lib/python3.7/site-packages/tensorflow/python/eager/function.py\u001b[0m in \u001b[0;36mcall\u001b[0;34m(self, ctx, args, cancellation_manager)\u001b[0m\n\u001b[1;32m    594\u001b[0m               \u001b[0minputs\u001b[0m\u001b[0;34m=\u001b[0m\u001b[0margs\u001b[0m\u001b[0;34m,\u001b[0m\u001b[0;34m\u001b[0m\u001b[0;34m\u001b[0m\u001b[0m\n\u001b[1;32m    595\u001b[0m               \u001b[0mattrs\u001b[0m\u001b[0;34m=\u001b[0m\u001b[0mattrs\u001b[0m\u001b[0;34m,\u001b[0m\u001b[0;34m\u001b[0m\u001b[0;34m\u001b[0m\u001b[0m\n\u001b[0;32m--> 596\u001b[0;31m               ctx=ctx)\n\u001b[0m\u001b[1;32m    597\u001b[0m         \u001b[0;32melse\u001b[0m\u001b[0;34m:\u001b[0m\u001b[0;34m\u001b[0m\u001b[0;34m\u001b[0m\u001b[0m\n\u001b[1;32m    598\u001b[0m           outputs = execute.execute_with_cancellation(\n",
      "\u001b[0;32m~/conda/lib/python3.7/site-packages/tensorflow/python/eager/execute.py\u001b[0m in \u001b[0;36mquick_execute\u001b[0;34m(op_name, num_outputs, inputs, attrs, ctx, name)\u001b[0m\n\u001b[1;32m     58\u001b[0m     \u001b[0mctx\u001b[0m\u001b[0;34m.\u001b[0m\u001b[0mensure_initialized\u001b[0m\u001b[0;34m(\u001b[0m\u001b[0;34m)\u001b[0m\u001b[0;34m\u001b[0m\u001b[0;34m\u001b[0m\u001b[0m\n\u001b[1;32m     59\u001b[0m     tensors = pywrap_tfe.TFE_Py_Execute(ctx._handle, device_name, op_name,\n\u001b[0;32m---> 60\u001b[0;31m                                         inputs, attrs, num_outputs)\n\u001b[0m\u001b[1;32m     61\u001b[0m   \u001b[0;32mexcept\u001b[0m \u001b[0mcore\u001b[0m\u001b[0;34m.\u001b[0m\u001b[0m_NotOkStatusException\u001b[0m \u001b[0;32mas\u001b[0m \u001b[0me\u001b[0m\u001b[0;34m:\u001b[0m\u001b[0;34m\u001b[0m\u001b[0;34m\u001b[0m\u001b[0m\n\u001b[1;32m     62\u001b[0m     \u001b[0;32mif\u001b[0m \u001b[0mname\u001b[0m \u001b[0;32mis\u001b[0m \u001b[0;32mnot\u001b[0m \u001b[0;32mNone\u001b[0m\u001b[0;34m:\u001b[0m\u001b[0;34m\u001b[0m\u001b[0;34m\u001b[0m\u001b[0m\n",
      "\u001b[0;31mKeyboardInterrupt\u001b[0m: "
     ]
    }
   ],
   "source": [
    "lr = np.linspace(0, 0.01, 50)\n",
    "\n",
    "accuracies = []\n",
    "skf = StratifiedKFold(n_splits=4)\n",
    "for _lr in tqdm(lr):\n",
    "    model.compile(Adam(learning_rate=_lr), loss=CategoricalCrossentropy(from_logits=True), metrics=[CategoricalAccuracy()])\n",
    "    folds = []\n",
    "    for trix, tsix in skf.split(df, df['class']):\n",
    "        xtr = df.iloc[trix]\n",
    "        xts = df.iloc[tsix]\n",
    "        traingen = ImageDataGenerator(\n",
    "            preprocessing_function=preprocess_input,\n",
    "            vertical_flip=True, horizontal_flip=True, zoom_range=[0.5, 1.5],\n",
    "            width_shift_range=[-100, 100], height_shift_range=[-100, 100]\n",
    "        ).flow_from_dataframe(xtr, x_col='path', target_size=(224, 224), validate_filenames=False)\n",
    "        testgen = ImageDataGenerator(preprocessing_function=preprocess_input).flow_from_dataframe(\n",
    "            xts, x_col='path', target_size=(224, 224), validate_filenames=False\n",
    "        )\n",
    "        model.fit(traingen, verbose=0, epochs=10)\n",
    "        p = model.predict(testgen).argmax(axis=1)\n",
    "        ix2cls = {v: k for k, v in testgen.class_indices.items()}\n",
    "        ypred = [ix2cls[pp] for pp in p]\n",
    "        folds.append(accuracy_score(xts['class'], ypred))\n",
    "    accuracies.append(folds)"
   ]
  },
  {
   "cell_type": "code",
   "execution_count": 54,
   "metadata": {},
   "outputs": [
    {
     "data": {
      "text/plain": [
       "[<matplotlib.lines.Line2D at 0x7f0c67fb7a90>]"
      ]
     },
     "execution_count": 54,
     "metadata": {},
     "output_type": "execute_result"
    },
    {
     "data": {
      "image/png": "[encoded data removed]",
      "text/plain": [
       "<Figure size 432x288 with 1 Axes>"
      ]
     },
     "metadata": {
      "needs_background": "light"
     },
     "output_type": "display_data"
    }
   ],
   "source": [
    "# A = np.array(accuracies)\n",
    "plt.plot(lr, np.array(accuracies).mean(axis=1))"
   ]
  },
  {
   "cell_type": "code",
   "execution_count": 58,
   "metadata": {},
   "outputs": [
    {
     "data": {
      "text/plain": [
       "0.0071428571428571435"
      ]
     },
     "execution_count": 58,
     "metadata": {},
     "output_type": "execute_result"
    }
   ],
   "source": [
    "lr[np.mean(np.array(accuracies), axis=1).argmax()]"
   ]
  },
  {
   "cell_type": "code",
   "execution_count": null,
   "metadata": {},
   "outputs": [],
   "source": []
  }
 ],
 "metadata": {
  "kernelspec": {
   "display_name": "Python 3",
   "language": "python",
   "name": "python3"
  },
  "language_info": {
   "codemirror_mode": {
    "name": "ipython",
    "version": 3
   },
   "file_extension": ".py",
   "mimetype": "text/x-python",
   "name": "python",
   "nbconvert_exporter": "python",
   "pygments_lexer": "ipython3",
   "version": "3.7.11"
  }
 },
 "nbformat": 4,
 "nbformat_minor": 4
}
