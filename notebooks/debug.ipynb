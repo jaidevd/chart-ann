{
 "cells": [
  {
   "cell_type": "code",
   "execution_count": 1,
   "id": "030e24e5",
   "metadata": {},
   "outputs": [],
   "source": [
    "from models import WindowObjectDetector"
   ]
  },
  {
   "cell_type": "code",
   "execution_count": 2,
   "id": "ca68de49",
   "metadata": {},
   "outputs": [],
   "source": [
    "from tensorflow.keras.models import load_model\n",
    "from tensorflow.keras.applications.resnet50 import preprocess_input\n",
    "from skimage.io import imread\n",
    "from skimage.color import rgba2rgb"
   ]
  },
  {
   "cell_type": "code",
   "execution_count": 3,
   "id": "4efb31c7",
   "metadata": {},
   "outputs": [],
   "source": [
    "model = WindowObjectDetector(load_model('checkpoints/resnet50-best.h5'))"
   ]
  },
  {
   "cell_type": "code",
   "execution_count": 22,
   "id": "1668ab1b",
   "metadata": {},
   "outputs": [],
   "source": [
    "X = preprocess_input(rgba2rgb(imread('/tmp/dashboard-software-interface-example.png')))"
   ]
  },
  {
   "cell_type": "code",
   "execution_count": 5,
   "id": "79f862ea",
   "metadata": {},
   "outputs": [
    {
     "name": "stdout",
     "output_type": "stream",
     "text": [
      "WARNING:tensorflow:From /home/jaidevd/conda/lib/python3.7/site-packages/tensorflow/python/ops/array_ops.py:5049: calling gather (from tensorflow.python.ops.array_ops) with validate_indices is deprecated and will be removed in a future version.\n",
      "Instructions for updating:\n",
      "The `validate_indices` argument has no effect. Indices are always validated on CPU and never validated on GPU.\n"
     ]
    }
   ],
   "source": [
    "a, b, c = model.predict(X.reshape((1,) + X.shape))"
   ]
  },
  {
   "cell_type": "code",
   "execution_count": 8,
   "id": "2f0ae09e",
   "metadata": {},
   "outputs": [],
   "source": [
    "from matplotlib import pyplot"
   ]
  },
  {
   "cell_type": "code",
   "execution_count": 9,
   "id": "5e021dac",
   "metadata": {},
   "outputs": [],
   "source": [
    "plt = pyplot"
   ]
  },
  {
   "cell_type": "code",
   "execution_count": 10,
   "id": "ffb4ce9d",
   "metadata": {},
   "outputs": [
    {
     "data": {
      "text/plain": [
       "TensorShape([17, 33, 5])"
      ]
     },
     "execution_count": 10,
     "metadata": {},
     "output_type": "execute_result"
    }
   ],
   "source": [
    "c.shape"
   ]
  },
  {
   "cell_type": "code",
   "execution_count": 17,
   "id": "8e985a83",
   "metadata": {},
   "outputs": [
    {
     "data": {
      "text/plain": [
       "<matplotlib.colorbar.Colorbar at 0x7fc083f2f1d0>"
      ]
     },
     "execution_count": 17,
     "metadata": {},
     "output_type": "execute_result"
    },
    {
     "data": {
      "image/png": "[encoded data removed]",
      "text/plain": [
       "<Figure size 432x288 with 2 Axes>"
      ]
     },
     "metadata": {
      "needs_background": "light"
     },
     "output_type": "display_data"
    }
   ],
   "source": [
    "plt.imshow(c[..., 1])\n",
    "plt.colorbar()"
   ]
  },
  {
   "cell_type": "code",
   "execution_count": 18,
   "id": "1e9ecbef",
   "metadata": {},
   "outputs": [],
   "source": [
    "from tensorflow.keras.preprocessing.image import load_img, img_to_array"
   ]
  },
  {
   "cell_type": "code",
   "execution_count": 24,
   "id": "f25c5c25",
   "metadata": {},
   "outputs": [],
   "source": [
    "Y = preprocess_input(img_to_array(load_img('/tmp/dashboard-software-interface-example.png')))"
   ]
  },
  {
   "cell_type": "code",
   "execution_count": 25,
   "id": "5205d5f6",
   "metadata": {},
   "outputs": [
    {
     "data": {
      "text/plain": [
       "(932, 1917, 3)"
      ]
     },
     "execution_count": 25,
     "metadata": {},
     "output_type": "execute_result"
    }
   ],
   "source": [
    "Y.shape"
   ]
  },
  {
   "cell_type": "code",
   "execution_count": 23,
   "id": "dcd7a8f6",
   "metadata": {},
   "outputs": [
    {
     "data": {
      "text/plain": [
       "(932, 1917, 3)"
      ]
     },
     "execution_count": 23,
     "metadata": {},
     "output_type": "execute_result"
    }
   ],
   "source": [
    "X.shape"
   ]
  },
  {
   "cell_type": "code",
   "execution_count": 26,
   "id": "1fd7b0c8",
   "metadata": {},
   "outputs": [],
   "source": [
    "a, b, c = model.predict(Y.reshape((1,) + Y.shape))"
   ]
  },
  {
   "cell_type": "code",
   "execution_count": 31,
   "id": "bff54e53",
   "metadata": {},
   "outputs": [
    {
     "data": {
      "text/plain": [
       "<matplotlib.colorbar.Colorbar at 0x7fc08337a950>"
      ]
     },
     "execution_count": 31,
     "metadata": {},
     "output_type": "execute_result"
    },
    {
     "data": {
      "image/png": "[encoded data removed]",
      "text/plain": [
       "<Figure size 432x288 with 2 Axes>"
      ]
     },
     "metadata": {
      "needs_background": "light"
     },
     "output_type": "display_data"
    }
   ],
   "source": [
    "plt.imshow(c[..., 4])\n",
    "plt.colorbar()"
   ]
  },
  {
   "cell_type": "code",
   "execution_count": 32,
   "id": "a31c6e55",
   "metadata": {},
   "outputs": [
    {
     "data": {
      "text/plain": [
       "\u001b[0;31mSignature:\u001b[0m\n",
       "\u001b[0mload_img\u001b[0m\u001b[0;34m(\u001b[0m\u001b[0;34m\u001b[0m\n",
       "\u001b[0;34m\u001b[0m    \u001b[0mpath\u001b[0m\u001b[0;34m,\u001b[0m\u001b[0;34m\u001b[0m\n",
       "\u001b[0;34m\u001b[0m    \u001b[0mgrayscale\u001b[0m\u001b[0;34m=\u001b[0m\u001b[0;32mFalse\u001b[0m\u001b[0;34m,\u001b[0m\u001b[0;34m\u001b[0m\n",
       "\u001b[0;34m\u001b[0m    \u001b[0mcolor_mode\u001b[0m\u001b[0;34m=\u001b[0m\u001b[0;34m'rgb'\u001b[0m\u001b[0;34m,\u001b[0m\u001b[0;34m\u001b[0m\n",
       "\u001b[0;34m\u001b[0m    \u001b[0mtarget_size\u001b[0m\u001b[0;34m=\u001b[0m\u001b[0;32mNone\u001b[0m\u001b[0;34m,\u001b[0m\u001b[0;34m\u001b[0m\n",
       "\u001b[0;34m\u001b[0m    \u001b[0minterpolation\u001b[0m\u001b[0;34m=\u001b[0m\u001b[0;34m'nearest'\u001b[0m\u001b[0;34m,\u001b[0m\u001b[0;34m\u001b[0m\n",
       "\u001b[0;34m\u001b[0m\u001b[0;34m)\u001b[0m\u001b[0;34m\u001b[0m\u001b[0;34m\u001b[0m\u001b[0m\n",
       "\u001b[0;31mDocstring:\u001b[0m\n",
       "Loads an image into PIL format.\n",
       "\n",
       "Usage:\n",
       "\n",
       "```\n",
       "image = tf.keras.preprocessing.image.load_img(image_path)\n",
       "input_arr = keras.preprocessing.image.img_to_array(image)\n",
       "input_arr = np.array([input_arr])  # Convert single image to a batch.\n",
       "predictions = model.predict(input_arr)\n",
       "```\n",
       "\n",
       "Args:\n",
       "    path: Path to image file.\n",
       "    grayscale: DEPRECATED use `color_mode=\"grayscale\"`.\n",
       "    color_mode: One of \"grayscale\", \"rgb\", \"rgba\". Default: \"rgb\".\n",
       "        The desired image format.\n",
       "    target_size: Either `None` (default to original size)\n",
       "        or tuple of ints `(img_height, img_width)`.\n",
       "    interpolation: Interpolation method used to resample the image if the\n",
       "        target size is different from that of the loaded image.\n",
       "        Supported methods are \"nearest\", \"bilinear\", and \"bicubic\".\n",
       "        If PIL version 1.1.3 or newer is installed, \"lanczos\" is also\n",
       "        supported. If PIL version 3.4.0 or newer is installed, \"box\" and\n",
       "        \"hamming\" are also supported. By default, \"nearest\" is used.\n",
       "\n",
       "Returns:\n",
       "    A PIL Image instance.\n",
       "\n",
       "Raises:\n",
       "    ImportError: if PIL is not available.\n",
       "    ValueError: if interpolation method is not supported.\n",
       "\u001b[0;31mFile:\u001b[0m      ~/conda/lib/python3.7/site-packages/tensorflow/python/keras/preprocessing/image.py\n",
       "\u001b[0;31mType:\u001b[0m      function\n"
      ]
     },
     "metadata": {},
     "output_type": "display_data"
    }
   ],
   "source": [
    "load_img?"
   ]
  },
  {
   "cell_type": "code",
   "execution_count": null,
   "id": "adb4fffe",
   "metadata": {},
   "outputs": [],
   "source": []
  }
 ],
 "metadata": {
  "kernelspec": {
   "display_name": "Python 3",
   "language": "python",
   "name": "python3"
  },
  "language_info": {
   "codemirror_mode": {
    "name": "ipython",
    "version": 3
   },
   "file_extension": ".py",
   "mimetype": "text/x-python",
   "name": "python",
   "nbconvert_exporter": "python",
   "pygments_lexer": "ipython3",
   "version": "3.7.11"
  }
 },
 "nbformat": 4,
 "nbformat_minor": 5
}
