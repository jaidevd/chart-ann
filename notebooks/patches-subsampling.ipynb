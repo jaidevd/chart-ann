{
 "cells": [
  {
   "cell_type": "code",
   "execution_count": 1,
   "id": "25c914d4",
   "metadata": {},
   "outputs": [
    {
     "name": "stderr",
     "output_type": "stream",
     "text": [
      "2021-08-30 19:09:40.863279: I tensorflow/stream_executor/platform/default/dso_loader.cc:53] Successfully opened dynamic library libcudart.so.11.0\n"
     ]
    }
   ],
   "source": [
    "from models import Windowing\n",
    "import tensorflow as tf\n",
    "import matplotlib.pyplot as plt\n",
    "# %load_ext autoreload\n",
    "# %autoreload 2"
   ]
  },
  {
   "cell_type": "code",
   "execution_count": 2,
   "id": "708d84e1",
   "metadata": {},
   "outputs": [],
   "source": [
    "# x = tf.keras.applications.resnet50.preprocess_input(\n",
    "#     tf.keras.preprocessing.image.img_to_array(\n",
    "#         tf.keras.preprocessing.image.load_img('/tmp/test.png')\n",
    "#     )\n",
    "# )\n",
    "x = tf.keras.preprocessing.image.img_to_array(tf.keras.preprocessing.image.load_img('/tmp/test.png'))"
   ]
  },
  {
   "cell_type": "code",
   "execution_count": 3,
   "id": "2ff4f646",
   "metadata": {},
   "outputs": [],
   "source": [
    "x.shape = (1,) + x.shape"
   ]
  },
  {
   "cell_type": "code",
   "execution_count": 4,
   "id": "ee9cd428",
   "metadata": {},
   "outputs": [],
   "source": [
    "window = Windowing([1, 224 / 4, 224 / 4, 1], [1, 224, 224, 1], outsize=(224, 224), multires=True)"
   ]
  },
  {
   "cell_type": "code",
   "execution_count": 5,
   "id": "99a163ee",
   "metadata": {},
   "outputs": [
    {
     "name": "stderr",
     "output_type": "stream",
     "text": [
      "2021-08-30 19:09:42.032680: I tensorflow/stream_executor/platform/default/dso_loader.cc:53] Successfully opened dynamic library libcuda.so.1\n",
      "2021-08-30 19:09:42.063351: I tensorflow/stream_executor/cuda/cuda_gpu_executor.cc:937] successful NUMA node read from SysFS had negative value (-1), but there must be at least one NUMA node, so returning NUMA node zero\n",
      "2021-08-30 19:09:42.063630: I tensorflow/core/common_runtime/gpu/gpu_device.cc:1733] Found device 0 with properties: \n",
      "pciBusID: 0000:01:00.0 name: GeForce GTX 1080 Ti computeCapability: 6.1\n",
      "coreClock: 1.683GHz coreCount: 28 deviceMemorySize: 10.91GiB deviceMemoryBandwidth: 451.17GiB/s\n",
      "2021-08-30 19:09:42.063646: I tensorflow/stream_executor/platform/default/dso_loader.cc:53] Successfully opened dynamic library libcudart.so.11.0\n",
      "2021-08-30 19:09:42.065850: I tensorflow/stream_executor/platform/default/dso_loader.cc:53] Successfully opened dynamic library libcublas.so.11\n",
      "2021-08-30 19:09:42.065875: I tensorflow/stream_executor/platform/default/dso_loader.cc:53] Successfully opened dynamic library libcublasLt.so.11\n",
      "2021-08-30 19:09:42.066343: I tensorflow/stream_executor/platform/default/dso_loader.cc:53] Successfully opened dynamic library libcufft.so.10\n",
      "2021-08-30 19:09:42.066468: I tensorflow/stream_executor/platform/default/dso_loader.cc:53] Successfully opened dynamic library libcurand.so.10\n",
      "2021-08-30 19:09:42.066728: I tensorflow/stream_executor/platform/default/dso_loader.cc:53] Successfully opened dynamic library libcusolver.so.11\n",
      "2021-08-30 19:09:42.067142: I tensorflow/stream_executor/platform/default/dso_loader.cc:53] Successfully opened dynamic library libcusparse.so.11\n",
      "2021-08-30 19:09:42.067215: I tensorflow/stream_executor/platform/default/dso_loader.cc:53] Successfully opened dynamic library libcudnn.so.8\n",
      "2021-08-30 19:09:42.067266: I tensorflow/stream_executor/cuda/cuda_gpu_executor.cc:937] successful NUMA node read from SysFS had negative value (-1), but there must be at least one NUMA node, so returning NUMA node zero\n",
      "2021-08-30 19:09:42.067589: I tensorflow/stream_executor/cuda/cuda_gpu_executor.cc:937] successful NUMA node read from SysFS had negative value (-1), but there must be at least one NUMA node, so returning NUMA node zero\n",
      "2021-08-30 19:09:42.067835: I tensorflow/core/common_runtime/gpu/gpu_device.cc:1871] Adding visible gpu devices: 0\n",
      "2021-08-30 19:09:42.068232: I tensorflow/core/platform/cpu_feature_guard.cc:142] This TensorFlow binary is optimized with oneAPI Deep Neural Network Library (oneDNN) to use the following CPU instructions in performance-critical operations:  AVX2 FMA\n",
      "To enable them in other operations, rebuild TensorFlow with the appropriate compiler flags.\n",
      "2021-08-30 19:09:42.068650: I tensorflow/stream_executor/cuda/cuda_gpu_executor.cc:937] successful NUMA node read from SysFS had negative value (-1), but there must be at least one NUMA node, so returning NUMA node zero\n",
      "2021-08-30 19:09:42.068901: I tensorflow/core/common_runtime/gpu/gpu_device.cc:1733] Found device 0 with properties: \n",
      "pciBusID: 0000:01:00.0 name: GeForce GTX 1080 Ti computeCapability: 6.1\n",
      "coreClock: 1.683GHz coreCount: 28 deviceMemorySize: 10.91GiB deviceMemoryBandwidth: 451.17GiB/s\n",
      "2021-08-30 19:09:42.068939: I tensorflow/stream_executor/cuda/cuda_gpu_executor.cc:937] successful NUMA node read from SysFS had negative value (-1), but there must be at least one NUMA node, so returning NUMA node zero\n",
      "2021-08-30 19:09:42.069204: I tensorflow/stream_executor/cuda/cuda_gpu_executor.cc:937] successful NUMA node read from SysFS had negative value (-1), but there must be at least one NUMA node, so returning NUMA node zero\n",
      "2021-08-30 19:09:42.069443: I tensorflow/core/common_runtime/gpu/gpu_device.cc:1871] Adding visible gpu devices: 0\n",
      "2021-08-30 19:09:42.069461: I tensorflow/stream_executor/platform/default/dso_loader.cc:53] Successfully opened dynamic library libcudart.so.11.0\n",
      "2021-08-30 19:09:42.369535: I tensorflow/core/common_runtime/gpu/gpu_device.cc:1258] Device interconnect StreamExecutor with strength 1 edge matrix:\n",
      "2021-08-30 19:09:42.369556: I tensorflow/core/common_runtime/gpu/gpu_device.cc:1264]      0 \n",
      "2021-08-30 19:09:42.369561: I tensorflow/core/common_runtime/gpu/gpu_device.cc:1277] 0:   N \n",
      "2021-08-30 19:09:42.369692: I tensorflow/stream_executor/cuda/cuda_gpu_executor.cc:937] successful NUMA node read from SysFS had negative value (-1), but there must be at least one NUMA node, so returning NUMA node zero\n",
      "2021-08-30 19:09:42.369993: I tensorflow/stream_executor/cuda/cuda_gpu_executor.cc:937] successful NUMA node read from SysFS had negative value (-1), but there must be at least one NUMA node, so returning NUMA node zero\n",
      "2021-08-30 19:09:42.370278: I tensorflow/stream_executor/cuda/cuda_gpu_executor.cc:937] successful NUMA node read from SysFS had negative value (-1), but there must be at least one NUMA node, so returning NUMA node zero\n",
      "2021-08-30 19:09:42.370532: I tensorflow/core/common_runtime/gpu/gpu_device.cc:1418] Created TensorFlow device (/job:localhost/replica:0/task:0/device:GPU:0 with 9751 MB memory) -> physical GPU (device: 0, name: GeForce GTX 1080 Ti, pci bus id: 0000:01:00.0, compute capability: 6.1)\n",
      "2021-08-30 19:09:43.687993: W tensorflow/core/framework/cpu_allocator_impl.cc:80] Allocation of 4196118528 exceeds 10% of free system memory.\n"
     ]
    }
   ],
   "source": [
    "patches = window(x)"
   ]
  },
  {
   "cell_type": "code",
   "execution_count": 6,
   "id": "4b920d16",
   "metadata": {},
   "outputs": [
    {
     "data": {
      "text/plain": [
       "[TensorShape([1, 69, 101, 224, 224, 3]),\n",
       " TensorShape([1, 45, 66, 224, 224, 3]),\n",
       " TensorShape([1, 33, 49, 224, 224, 3]),\n",
       " TensorShape([1, 25, 38, 224, 224, 3]),\n",
       " TensorShape([1, 21, 31, 224, 224, 3]),\n",
       " TensorShape([1, 17, 26, 224, 224, 3]),\n",
       " TensorShape([1, 15, 23, 224, 224, 3]),\n",
       " TensorShape([1, 13, 20, 224, 224, 3]),\n",
       " TensorShape([1, 11, 17, 224, 224, 3]),\n",
       " TensorShape([1, 10, 15, 224, 224, 3]),\n",
       " TensorShape([1, 9, 14, 224, 224, 3]),\n",
       " TensorShape([1, 8, 13, 224, 224, 3]),\n",
       " TensorShape([1, 7, 11, 224, 224, 3]),\n",
       " TensorShape([1, 6, 10, 224, 224, 3]),\n",
       " TensorShape([1, 5, 9, 224, 224, 3]),\n",
       " TensorShape([1, 5, 8, 224, 224, 3])]"
      ]
     },
     "execution_count": 6,
     "metadata": {},
     "output_type": "execute_result"
    }
   ],
   "source": [
    "[p.shape for p in patches]"
   ]
  },
  {
   "cell_type": "code",
   "execution_count": null,
   "id": "3d0bca01",
   "metadata": {},
   "outputs": [],
   "source": []
  }
 ],
 "metadata": {
  "kernelspec": {
   "display_name": "Python 3 (ipykernel)",
   "language": "python",
   "name": "python3"
  },
  "language_info": {
   "codemirror_mode": {
    "name": "ipython",
    "version": 3
   },
   "file_extension": ".py",
   "mimetype": "text/x-python",
   "name": "python",
   "nbconvert_exporter": "python",
   "pygments_lexer": "ipython3",
   "version": "3.7.11"
  }
 },
 "nbformat": 4,
 "nbformat_minor": 5
}
