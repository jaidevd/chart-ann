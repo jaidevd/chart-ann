{
 "cells": [
  {
   "cell_type": "code",
   "execution_count": 1,
   "id": "dba8af69",
   "metadata": {},
   "outputs": [],
   "source": [
    "from shapely.geometry import Polygon\n",
    "from sqlite3 import connect\n",
    "import pandas as pd\n",
    "import json\n",
    "import numpy as np\n",
    "import matplotlib.pyplot as plt\n",
    "\n",
    "conn = connect('../data/charts_coarse.db')\n",
    "df = pd.read_sql('select * from pages', conn)\n",
    "xdf = df.dropna(subset=['annotations', 'prediction'])\n",
    "xdf = xdf[['annotations', 'prediction']]"
   ]
  },
  {
   "cell_type": "code",
   "execution_count": 121,
   "id": "097e17e8",
   "metadata": {},
   "outputs": [],
   "source": [
    "def get_coords(row):\n",
    "    x, y, h, w = row.x, row.y, row.height, row.width\n",
    "    return (x, y), (x + w, y), (x + w, y + h), (x, y + h)\n",
    "\n",
    "def get_dfs(row):\n",
    "    annotation, prediction = map(json.loads, row.tolist())\n",
    "    y_true = [v['value'] for v in annotation]\n",
    "    y_true = pd.DataFrame.from_records([\n",
    "        {k: v[k] for k in ['x', 'y', 'height', 'width', 'rectanglelabels']} for v in y_true\n",
    "    ])\n",
    "    y_pred = [v['value'] for v in prediction]\n",
    "    y_pred = pd.DataFrame.from_records([\n",
    "        {k: v[k] for k in ['x', 'y', 'height', 'width', 'rectanglelabels']} for v in y_pred\n",
    "    ])\n",
    "    y_true['label'] = y_true.pop('rectanglelabels').apply(lambda x: x[0])\n",
    "    y_pred['label'] = y_pred.pop('rectanglelabels').apply(lambda x: x[0])\n",
    "    return y_true, y_pred\n",
    "\n",
    "def get_iou_matrix(row):\n",
    "    y_true, y_pred = get_dfs(row)\n",
    "    ious = {}\n",
    "    for label in ['map', 'donut', 'line', 'scatter']:\n",
    "        ltrue, lpred = y_true[y_true['label'] == label], y_pred[y_pred['label'] == label]\n",
    "        if not any([len(ltrue), len(lpred)]):\n",
    "            # If the label is absent in both annotation and prediction, continue to the next label\n",
    "            continue\n",
    "        \n",
    "        elif len(ltrue) and not len(lpred):\n",
    "            # Prediction is absent, annotation is present\n",
    "            # Prediction is then a polygon with zero area\n",
    "            pred_polygons = [Polygon([(0, 0), (0, 0), (0, 0), (0, 0)])]\n",
    "            true_polygons = ltrue.apply(lambda row: Polygon(get_coords(row)), axis=1)\n",
    "        elif len(lpred) and not len(ltrue):\n",
    "            # Prediction present, annotation absent\n",
    "            # Annotation is a polygon with zero area\n",
    "            true_polygons = [Polygon([(0, 0), (0, 0), (0, 0), (0, 0)])]\n",
    "            pred_polygons = lpred.apply(lambda row: Polygon(get_coords(row)), axis=1)\n",
    "        else:\n",
    "            true_polygons = ltrue.apply(lambda row: Polygon(get_coords(row)), axis=1)\n",
    "            pred_polygons = lpred.apply(lambda row: Polygon(get_coords(row)), axis=1)\n",
    "        iou = np.zeros(list(map(len, (pred_polygons, true_polygons))))\n",
    "        for i, p_poly in enumerate(pred_polygons):\n",
    "            for j, t_poly in enumerate(true_polygons):\n",
    "                iou[i, j] = p_poly.intersection(t_poly).area / p_poly.union(t_poly).area\n",
    "        ious[label] = iou\n",
    "        \n",
    "    return ious\n",
    "\n",
    "\n",
    "def map_iou(row):\n",
    "    mats = get_iou_matrix(row)\n",
    "    thresh = np.arange(0.5, 1, 0.05)\n",
    "    ious = {}\n",
    "    for label, iou in mats.items():\n",
    "        T = np.tile(thresh, iou.shape + (1,))\n",
    "        X = np.repeat(iou[:, :, np.newaxis], 10, axis=2)\n",
    "        threshed = X > T\n",
    "        tp = threshed.any(axis=1).sum(axis=0)\n",
    "        fp = (threshed.sum(axis=1) == 0).sum(axis=0)\n",
    "        fn = (threshed.sum(axis=0) == 0).sum(axis=0)\n",
    "        ious[label] = np.mean(tp / (tp + fp + fn))\n",
    "    return ious\n",
    "\n",
    "ious = map_iou(xdf.iloc[0])"
   ]
  },
  {
   "cell_type": "code",
   "execution_count": 127,
   "id": "f8c54044",
   "metadata": {},
   "outputs": [],
   "source": [
    "xdf.drop([127], axis=0, inplace=True)"
   ]
  },
  {
   "cell_type": "code",
   "execution_count": 131,
   "id": "fafd2716",
   "metadata": {},
   "outputs": [],
   "source": [
    "label_ious = {}\n",
    "for iou in xdf.apply(map_iou, axis=1).tolist():\n",
    "    for k, v in iou.items():\n",
    "        if k in label_ious:\n",
    "            label_ious[k].append(v)\n",
    "        else:\n",
    "            label_ious[k] = [v]"
   ]
  },
  {
   "cell_type": "code",
   "execution_count": 136,
   "id": "fcb23ffd",
   "metadata": {},
   "outputs": [],
   "source": [
    "label_ious = {k: np.mean(v) for k, v in label_ious.items()}"
   ]
  },
  {
   "cell_type": "code",
   "execution_count": 138,
   "id": "901f8ca6",
   "metadata": {},
   "outputs": [
    {
     "data": {
      "text/plain": [
       "<AxesSubplot:>"
      ]
     },
     "execution_count": 138,
     "metadata": {},
     "output_type": "execute_result"
    },
    {
     "data": {
      "image/png": "[encoded data removed]",
      "text/plain": [
       "<Figure size 432x288 with 1 Axes>"
      ]
     },
     "metadata": {
      "needs_background": "light"
     },
     "output_type": "display_data"
    }
   ],
   "source": [
    "pd.Series(label_ious).plot(kind='bar')"
   ]
  },
  {
   "cell_type": "code",
   "execution_count": null,
   "id": "b554dad5",
   "metadata": {},
   "outputs": [],
   "source": []
  }
 ],
 "metadata": {
  "kernelspec": {
   "display_name": "Python 3 (ipykernel)",
   "language": "python",
   "name": "python3"
  },
  "language_info": {
   "codemirror_mode": {
    "name": "ipython",
    "version": 3
   },
   "file_extension": ".py",
   "mimetype": "text/x-python",
   "name": "python",
   "nbconvert_exporter": "python",
   "pygments_lexer": "ipython3",
   "version": "3.7.11"
  }
 },
 "nbformat": 4,
 "nbformat_minor": 5
}
